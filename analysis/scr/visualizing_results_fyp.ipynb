{
 "cells": [
  {
   "cell_type": "code",
   "execution_count": 51,
   "metadata": {
    "collapsed": false
   },
   "outputs": [
    {
     "name": "stdout",
     "output_type": "stream",
     "text": [
      "Populating the interactive namespace from numpy and matplotlib\n"
     ]
    }
   ],
   "source": [
    "# load functions for data analysis\n",
    "from scr_analysis_functions_fyp import experimental, visualizeStats\n",
    "from statsmodels.stats.anova import anova_lm\n",
    "from statsmodels.formula.api import ols\n",
    "import statsmodels.formula.api as smf    \n",
    "import pandas, os, scipy\n",
    "import seaborn as sns\n",
    "import numpy as np\n",
    "\n",
    "% pylab inline\n",
    "pandas.options.mode.chained_assignment = None"
   ]
  },
  {
   "cell_type": "code",
   "execution_count": 52,
   "metadata": {
    "collapsed": false
   },
   "outputs": [],
   "source": [
    "data_path = '/Users/biota/Desktop/sSL/experiment_2/analysis/data_physio_study1'\n",
    "day_one = experimental(data_path)\n",
    "day_one.day = 1\n",
    "day_one.preprocessData()"
   ]
  },
  {
   "cell_type": "code",
   "execution_count": 53,
   "metadata": {
    "collapsed": false
   },
   "outputs": [],
   "source": [
    "day_two = experimental(data_path)\n",
    "day_two.day = 2\n",
    "day_two.preprocessData()"
   ]
  },
  {
   "cell_type": "code",
   "execution_count": 54,
   "metadata": {
    "collapsed": false
   },
   "outputs": [],
   "source": [
    "cb = []\n",
    "bc = []\n",
    "for iSubject in range(0,len(day_two.subjectNames)): \n",
    "    if str.find(day_two.subjectNames[iSubject],'_cb_') != -1: \n",
    "        cb.append(iSubject)\n",
    "    else: \n",
    "        bc.append(iSubject)\n",
    "\n",
    "cb = np.array(cb)\n",
    "bc = np.array(bc)"
   ]
  },
  {
   "cell_type": "code",
   "execution_count": 55,
   "metadata": {
    "collapsed": true
   },
   "outputs": [],
   "source": [
    "\n",
    "order = np.zeros(day_two.nSubjects)\n",
    "order[cb] = 1\n"
   ]
  },
  {
   "cell_type": "code",
   "execution_count": 56,
   "metadata": {
    "collapsed": false
   },
   "outputs": [],
   "source": [
    "conditioning_pos_offsets = np.zeros([day_one.nSubjects,len(range(3,12))])\n",
    "conditioning_neg_offsets = np.zeros([day_one.nSubjects,len(range(3,12))])\n",
    "\n",
    "day_one.nSeconds = 4.5\n",
    "conditioning = list(range(3,12))\n",
    "for iStim in range(0,len(conditioning)):\n",
    "    conditioning_pos_offsets[:,iStim], conditioning_neg_offsets[:,iStim] = day_one.amplitudeDifference('trans',\n",
    "                                                                                                       conditioning[iStim],\n",
    "                                                                                                       'offset');\n",
    "conditioning_significance_offsets = np.zeros(day_one.nSubjects)\n",
    "for iSubject in range(0,day_one.nSubjects): \n",
    "    conditioning_significance_offsets[iSubject] = scipy.stats.wilcoxon(conditioning_pos_offsets[iSubject,:],\n",
    "                                                                     conditioning_neg_offsets[iSubject,:])[1];"
   ]
  },
  {
   "cell_type": "code",
   "execution_count": null,
   "metadata": {
    "collapsed": true
   },
   "outputs": [],
   "source": []
  },
  {
   "cell_type": "code",
   "execution_count": 57,
   "metadata": {
    "collapsed": false
   },
   "outputs": [],
   "source": [
    "start_con_onsets = 4\n",
    "end_con_onsets   = 13\n",
    "conditioning_pos_onsets = np.zeros([day_one.nSubjects,len(range(start_con_onsets,end_con_onsets))])\n",
    "conditioning_neg_onsets = np.zeros([day_one.nSubjects,len(range(start_con_onsets,end_con_onsets))])\n",
    "\n",
    "day_one.nSeconds = 4.5\n",
    "conditioning = list(range(start_con_onsets,end_con_onsets))\n",
    "\n",
    "for i_stim in range(0,len(conditioning)):\n",
    "    conditioning_pos_onsets[:,i_stim], conditioning_neg_onsets[:,i_stim] = day_one.amplitudeDifference('trans',\n",
    "                                                                           conditioning[i_stim],\n",
    "                                                                           'onset');\n",
    "conditioning_significance_onsets = np.zeros(day_one.nSubjects)\n",
    "\n",
    "for i_subject in range(0,day_one.nSubjects): \n",
    "    conditioning_significance_onsets[i_subject] = scipy.stats.wilcoxon(conditioning_pos_onsets[i_subject,:],\n",
    "                                                                 conditioning_neg_onsets[i_subject,:])[1];"
   ]
  },
  {
   "cell_type": "code",
   "execution_count": 58,
   "metadata": {
    "collapsed": true
   },
   "outputs": [],
   "source": [
    "log_conditioning_pos_onsets = log(1 + conditioning_pos_onsets)\n",
    "log_conditioning_neg_onsets = log(1 + conditioning_neg_onsets)\n",
    "log_renewal_plus = log(1 + renewal_plus)\n",
    "log_renewal_minus = log(1 + renewal_minus)\n",
    "\n",
    "log_learning = mean(log_conditioning_pos_onsets - log_conditioning_neg_onsets,1)\n",
    "log_renewal =  log_renewal_plus - log_renewal_minus "
   ]
  },
  {
   "cell_type": "code",
   "execution_count": 59,
   "metadata": {
    "collapsed": false
   },
   "outputs": [],
   "source": [
    "\n",
    "iStim = 0\n",
    "day_two.nSeconds = 4.5\n",
    "renewal_plus, renewal_minus = day_two.amplitudeDifference('trans',iStim,'onset');\n"
   ]
  },
  {
   "cell_type": "code",
   "execution_count": 60,
   "metadata": {
    "collapsed": false
   },
   "outputs": [
    {
     "data": {
      "text/plain": [
       "<matplotlib.collections.PathCollection at 0x116bdd1d0>"
      ]
     },
     "execution_count": 60,
     "metadata": {},
     "output_type": "execute_result"
    },
    {
     "data": {
      "image/png": "[encoded data removed]",
      "text/plain": [
       "<matplotlib.figure.Figure at 0x11efc6610>"
      ]
     },
     "metadata": {},
     "output_type": "display_data"
    }
   ],
   "source": [
    "#scatter(order[cb], log_renewal_plus[cb])\n",
    "scatter(np.ones(len(cb)), log_renewal_minus[order==True], color='blue')\n",
    "scatter(np.ones(len(cb))+1, log_renewal_plus[order==True], color='red')\n",
    "\n",
    "tmp_len = len(np.nonzero(order==False)[0])\n",
    "scatter(np.ones(tmp_len), log_renewal_minus[order==False], color='blue')\n",
    "scatter(np.ones(tmp_len)+1, log_renewal_plus[order==False], color='red')"
   ]
  },
  {
   "cell_type": "code",
   "execution_count": 61,
   "metadata": {
    "collapsed": false
   },
   "outputs": [
    {
     "data": {
      "text/plain": [
       "<matplotlib.text.Text at 0x116c507d0>"
      ]
     },
     "execution_count": 61,
     "metadata": {},
     "output_type": "execute_result"
    },
    {
     "data": {
      "image/png": "[encoded data removed]",
      "text/plain": [
       "<matplotlib.figure.Figure at 0x1258753d0>"
      ]
     },
     "metadata": {},
     "output_type": "display_data"
    }
   ],
   "source": [
    "\n",
    "figure(figsize=[8,6])\n",
    "jitter = np.random.randn(len(order))/100\n",
    "scatter(order + jitter,log_renewal, alpha=.8, s=90)\n",
    "scatter(order + jitter,log_renewal, color='darkcyan', alpha=.1, s=300)\n",
    "ylabel('Renewal \\nCS+ minus CS-\\n', rotation=90, fontsize=14)\n",
    "yticks([-.8, -.5,0,.5,.8],['', -.5,0,.5,''])\n",
    "xticks([0, 1],['\\nFirst CS','\\nSecond CS'], fontsize=14)\n",
    "xlim(-.2, 1.2)\n",
    "ylim(-2.5, 3)\n",
    "title('Main Effect of order\\n', fontsize=15)\n"
   ]
  },
  {
   "cell_type": "code",
   "execution_count": 62,
   "metadata": {
    "collapsed": false
   },
   "outputs": [
    {
     "data": {
      "image/png": "[encoded data removed]",
      "text/plain": [
       "<matplotlib.figure.Figure at 0x116c28690>"
      ]
     },
     "metadata": {},
     "output_type": "display_data"
    }
   ],
   "source": [
    "figure(figsize=(10,6))\n",
    "\n",
    "scatter(log_learning, log_renewal,color='xkcd:indigo',alpha=.3,s=180, label='CS+ first')\n",
    "scatter(log_learning[order==True], log_renewal[order==True],marker='x', color='xkcd:indigo',alpha=.4, s=10, linewidth=15, label='CS- first')\n",
    "\n",
    "# control aesthetics\n",
    "lgnd = legend(fontsize=13, fancybox=True, frameon=True, bbox_to_anchor=(.20, 1, 1, 0))\n",
    "lgnd.get_frame().set_edgecolor('xkcd:indigo')\n",
    "lgnd.get_frame().set_linewidth(2)\n",
    "lgnd.get_frame().set_alpha(.4)\n",
    "\n",
    "xlabel('Conditioning on day one\\n CS+ minus CS-',fontsize=13)\n",
    "ylabel('Renewal\\n CS+ minus CS-',fontsize=13)\n",
    "# yticks([0],[0])\n",
    "# xticks([0],[0])\n",
    "title('Relationship between conditioning to CS+ on day 1 with renewal\\n',fontsize=15); \n"
   ]
  },
  {
   "cell_type": "code",
   "execution_count": 63,
   "metadata": {
    "collapsed": false
   },
   "outputs": [],
   "source": [
    "\n",
    "\n",
    "SCR = pandas.DataFrame({'renewal':log_renewal, 'prediction':log_learning, 'order':order}) \n",
    "\n"
   ]
  },
  {
   "cell_type": "code",
   "execution_count": 68,
   "metadata": {
    "collapsed": false
   },
   "outputs": [
    {
     "name": "stdout",
     "output_type": "stream",
     "text": [
      "\n",
      "\n",
      "\t\trenewal ~ prediction \n",
      "\n",
      "               sum_sq    df         F    PR(>F)\n",
      "prediction   3.570007   1.0  5.948624  0.018931\n",
      "Residual    25.806018  43.0       NaN       NaN\n",
      "\n",
      "\n",
      "\trenewal ~ prediction + C(order) \n",
      "\n",
      "               sum_sq    df          F    PR(>F)\n",
      "C(order)     6.360503   1.0  13.737929  0.000609\n",
      "prediction   1.769550   1.0   3.822016  0.057260\n",
      "Residual    19.445515  42.0        NaN       NaN \n",
      "\n",
      "\n"
     ]
    }
   ],
   "source": [
    "formula = 'renewal ~ prediction'\n",
    "model = ols(formula, SCR).fit()\n",
    "aov_table = anova_lm(model, typ=2)\n",
    "print '\\n\\n\\t\\t', formula, '\\n\\n', aov_table\n",
    "\n",
    "formula = 'renewal ~ prediction + C(order)'\n",
    "model = ols(formula, SCR).fit()\n",
    "aov_table = anova_lm(model, typ=2)\n",
    "p_value = aov_table.values[2,3]\n",
    "print '\\n\\n\\t', formula, '\\n\\n', aov_table, '\\n\\n'"
   ]
  },
  {
   "cell_type": "code",
   "execution_count": null,
   "metadata": {
    "collapsed": false
   },
   "outputs": [],
   "source": [
    "# control for non-responders using raw data"
   ]
  },
  {
   "cell_type": "code",
   "execution_count": 22,
   "metadata": {
    "collapsed": false
   },
   "outputs": [],
   "source": [
    "start_con_onsets, end_con_onsets = 4, 13\n",
    "\n",
    "conditioning_pos_onsets_raw = np.zeros([day_one.nSubjects,len(range(start_con_onsets,end_con_onsets))])\n",
    "conditioning_neg_onsets_raw = np.zeros([day_one.nSubjects,len(range(start_con_onsets,end_con_onsets))])\n",
    "\n",
    "day_one.nSeconds = 4.5\n",
    "conditioning_inds = list(range(start_con_onsets, end_con_onsets))\n",
    "\n",
    "for i_stim in range(0,len(conditioning_inds)):\n",
    "    conditioning_pos_onsets_raw[:,i_stim], conditioning_neg_onsets_raw[:,i_stim] = day_one.amplitudeDifference('raw',\n",
    "                                                                                   conditioning_inds[i_stim],\n",
    "                                                                                   'onset');"
   ]
  },
  {
   "cell_type": "code",
   "execution_count": 29,
   "metadata": {
    "collapsed": false
   },
   "outputs": [],
   "source": [
    "day_two.nSeconds = 4.5\n",
    "raw_renewal_plus, raw_renewal_minus = day_two.amplitudeDifference('raw',0,'onset');"
   ]
  },
  {
   "cell_type": "code",
   "execution_count": 35,
   "metadata": {
    "collapsed": false
   },
   "outputs": [
    {
     "data": {
      "text/plain": [
       "array([1, 0, 1, 0, 1, 0])"
      ]
     },
     "execution_count": 35,
     "metadata": {},
     "output_type": "execute_result"
    }
   ],
   "source": [
    "# a = np.array([1,0,1,1,1,0])\n",
    "# b = np.array([1,0,0,0,1,0])\n",
    "# c = np.array([1,1,0,1,0,0])\n",
    "# d = np.array([1,0,1,0,0,0])\n",
    "\n",
    "# a & (b | d)"
   ]
  },
  {
   "cell_type": "code",
   "execution_count": 70,
   "metadata": {
    "collapsed": false
   },
   "outputs": [],
   "source": [
    "\n",
    "responders = np.array(mean(conditioning_pos_onsets_raw,1) > .02)\n"
   ]
  },
  {
   "cell_type": "code",
   "execution_count": 71,
   "metadata": {
    "collapsed": false
   },
   "outputs": [],
   "source": [
    "SCR = pandas.DataFrame({'renewal':log_renewal[responders], \n",
    "                        'prediction':log_learning[responders], \n",
    "                        'order':order[responders]})"
   ]
  },
  {
   "cell_type": "code",
   "execution_count": 82,
   "metadata": {
    "collapsed": false
   },
   "outputs": [
    {
     "name": "stdout",
     "output_type": "stream",
     "text": [
      "\n",
      "\n",
      "\t\trenewal ~ prediction \n",
      "\n",
      "               sum_sq    df          F    PR(>F)\n",
      "prediction   7.144081   1.0  12.492717  0.001306\n",
      "Residual    17.727650  31.0        NaN       NaN\n",
      "\n",
      "\n",
      "\trenewal ~ prediction + C(order) \n",
      "\n",
      "               sum_sq    df          F    PR(>F)\n",
      "C(order)     6.379284   1.0  16.863970  0.000285\n",
      "prediction   3.415634   1.0   9.029407  0.005324\n",
      "Residual    11.348366  30.0        NaN       NaN \n",
      "\n",
      "\n"
     ]
    }
   ],
   "source": [
    "\n",
    "formula = 'renewal ~ prediction'\n",
    "model_prediction_responders = ols(formula, SCR).fit()\n",
    "aov_table = anova_lm(model_prediction_responders, typ=2)\n",
    "print '\\n\\n\\t\\t', formula, '\\n\\n', aov_table\n",
    "\n",
    "formula = 'renewal ~ prediction + C(order)'\n",
    "model_prediction_order_responders = ols(formula, SCR).fit()\n",
    "aov_table_final = anova_lm(model_prediction_order_responders, typ=2)\n",
    "p_value = aov_table_final.values[2,3]\n",
    "print '\\n\\n\\t', formula, '\\n\\n', aov_table_final, '\\n\\n'\n"
   ]
  },
  {
   "cell_type": "code",
   "execution_count": 78,
   "metadata": {
    "collapsed": false
   },
   "outputs": [],
   "source": [
    "p_value_responders_order_prediction = aov_table_final.values[1,3]"
   ]
  },
  {
   "cell_type": "code",
   "execution_count": 79,
   "metadata": {
    "collapsed": false
   },
   "outputs": [
    {
     "data": {
      "image/png": "[encoded data removed]",
      "text/plain": [
       "<matplotlib.figure.Figure at 0x11b73ebd0>"
      ]
     },
     "metadata": {},
     "output_type": "display_data"
    }
   ],
   "source": [
    "figure(figsize=(10,6))\n",
    "\n",
    "iStim = 0\n",
    "day_two.nSeconds = 4.5\n",
    "renewal_plus, renewal_minus = day_two.amplitudeDifference('trans',iStim,'onset');\n",
    "\n",
    "log_conditioning_pos_onsets = log(1 + conditioning_pos_onsets)\n",
    "log_conditioning_neg_onsets = log(1 + conditioning_neg_onsets)\n",
    "log_renewal_plus = log(1 + renewal_plus)\n",
    "log_renewal_minus = log(1 + renewal_minus)\n",
    "\n",
    "log_learning_responders = mean(log_conditioning_pos_onsets - log_conditioning_neg_onsets,1)[responders]\n",
    "log_renewal_responders =  (log_renewal_plus - log_renewal_minus)[responders]\n",
    "cb = np.nonzero(order[responders])[0]\n",
    "\n",
    "scatter(log_learning, log_renewal,color='xkcd:indigo',alpha=.3,s=180, label='CS+ first')\n",
    "scatter(log_learning[cb], log_renewal[cb],marker='x', color='xkcd:indigo',alpha=.6, s=10, linewidth=10, label='CS- first')\n",
    "\n",
    "legend(loc=2, fontsize=13)\n",
    "xlabel('conditioning on day one\\n CS+ minus CS-',fontsize=13)\n",
    "ylabel('renewal on day two\\n CS+ minus CS-',fontsize=13)\n",
    "\n",
    "title('\\nRelationship between conditioning to CS+ on day 1 with renewal\\n only responders, controlling for order (p < %.03f)\\n' \n",
    "      %(p_value_responders_order_prediction), fontsize=15); "
   ]
  },
  {
   "cell_type": "code",
   "execution_count": null,
   "metadata": {
    "collapsed": true
   },
   "outputs": [],
   "source": [
    "conditioning_significance_raw_onsets = np.zeros(day_one.nSubjects)\n",
    "\n",
    "for i_subject in range(0,day_one.nSubjects): \n",
    "    conditioning_significance_raw_onsets[i_subject] = scipy.stats.ttest_ind(conditioning_pos_onsets_raw[i_subject,:],\n",
    "                                                                 conditioning_neg_onsets_raw[i_subject,:])[1];"
   ]
  },
  {
   "cell_type": "code",
   "execution_count": null,
   "metadata": {
    "collapsed": false
   },
   "outputs": [],
   "source": [
    "conditioned_subjects_= find(conditioning_significance_onsets < .05)"
   ]
  },
  {
   "cell_type": "code",
   "execution_count": null,
   "metadata": {
    "collapsed": false
   },
   "outputs": [],
   "source": [
    "figure(figsize=[6,5])\n",
    "#scatter(order[cb], log_renewal_plus[cb])\n",
    "tmp_len_p = len(log_renewal_plus[conditioned_subjects_])\n",
    "tmp_len_n = len(log_renewal_minus[conditioned_subjects_])\n",
    "jitter_p = np.random.randn(tmp_len_p)/80\n",
    "jitter_n = np.random.randn(tmp_len_n)/80\n",
    "\n",
    "scatter(np.zeros(tmp_len_p)+ .3 + jitter_p, log_renewal_plus[conditioned_subjects_],s=100, alpha=.5,color='xkcd:red') \n",
    "scatter(np.zeros(tmp_len_n)+jitter_n, log_renewal_minus[conditioned_subjects_],s=100, alpha=.5, color='xkcd:blue') \n",
    "xlim([-.1,.4])\n",
    "ylim(-.2,.8)\n",
    "xticks([0,.3], ['CS-', 'CS+'], fontsize=15); "
   ]
  },
  {
   "cell_type": "code",
   "execution_count": null,
   "metadata": {
    "collapsed": true
   },
   "outputs": [],
   "source": []
  },
  {
   "cell_type": "code",
   "execution_count": null,
   "metadata": {
    "collapsed": true
   },
   "outputs": [],
   "source": []
  },
  {
   "cell_type": "code",
   "execution_count": null,
   "metadata": {
    "collapsed": false
   },
   "outputs": [],
   "source": [
    "# raw_conditioning_pos_onsets = np.zeros([day_one.nSubjects,len(range(3,12))])\n",
    "# raw_conditioning_neg_onsets = np.zeros([day_one.nSubjects,len(range(3,12))])\n",
    "\n",
    "# day_one.nSeconds = 5\n",
    "# conditioning_indices = list(range(3,12))\n",
    "# for iStim in range(0,len(conditioning_indices)):\n",
    "#     raw_CSPs[:,iStim], raw_CSMs[:,iStim] = day1.amplitudeDifference('raw',conditioning[iStim],'onset');"
   ]
  },
  {
   "cell_type": "code",
   "execution_count": null,
   "metadata": {
    "collapsed": false
   },
   "outputs": [],
   "source": [
    "order = np.zeros(len(log_renewal)) ; order[cb] = 1 \n",
    "scatter(order, log_renewal)"
   ]
  },
  {
   "cell_type": "code",
   "execution_count": null,
   "metadata": {
    "collapsed": false
   },
   "outputs": [],
   "source": [
    "pos"
   ]
  },
  {
   "cell_type": "code",
   "execution_count": null,
   "metadata": {
    "collapsed": false
   },
   "outputs": [],
   "source": [
    "def results_vary_p(conditioning_results, p_value): \n",
    "    \n",
    "    conditioned_subjects = find(conditioning_results < p_value)\n",
    "    \n",
    "    iStim = 0\n",
    "    day_two.nSeconds = 4.5\n",
    "    plus, minus = day_two.amplitudeDifference('trans',iStim,'onset');\n",
    "\n",
    "    pos_conditioned = log(1 + plus[conditioned_subjects])\n",
    "    neg_conditioned = log(1 + minus[conditioned_subjects]) \n",
    "\n",
    "    _results_ = scipy.stats.ttest_ind(pos_conditioned, neg_conditioned)\n",
    "    visualizeStats(pos_conditioned, neg_conditioned,_results_, \n",
    "                   heading='only testing for renewal in participants with significant (p < %s) conditioning on day one'\n",
    "                   %p_value)\n",
    "\n",
    "results_vary_p(conditioning_significance_onsets, .05) "
   ]
  },
  {
   "cell_type": "code",
   "execution_count": null,
   "metadata": {
    "collapsed": false
   },
   "outputs": [],
   "source": [
    "responders = mean(raw_CSPs,1) > .01\n",
    "# or \n",
    "# responders = np.array(raw_renewal_plus > .02) & np.array(raw_renewal_minus > .02)\n",
    "# or \n",
    "# responders = np.array(raw_renewal_plus > .02) | np.array(raw_renewal_minus > .02)\n",
    "# or \n",
    "#responders = np.array(mean(raw_CSPs,1) > .01) | np.array(raw_renewal_plus > .02) | np.array(raw_renewal_minus > .02)\n",
    "# or \n",
    "# responders = np.array(mean(raw_CSPs,1) > .01) & np.array(raw_renewal_plus > .02) & np.array(raw_renewal_minus > .02)"
   ]
  },
  {
   "cell_type": "code",
   "execution_count": null,
   "metadata": {
    "collapsed": false
   },
   "outputs": [],
   "source": [
    "figure(figsize=(10,6))\n",
    "\n",
    "iStim = 0\n",
    "day2.nSeconds = 4.5\n",
    "plus, minus = day2.amplitudeDifference('trans',iStim,'onset');\n",
    "var1 = mean(CSP - CSM,1)#[conditionedSubjects]\n",
    "var2 =  plus - minus #plus[conditionedSubjects]-minus[conditionedSubjects]\n",
    "\n",
    "log_CSP = log(1 + CSP)\n",
    "log_CSM = log(1 + CSM)\n",
    "log_plus = log(1 + plus)\n",
    "log_minus= log(1 + minus)\n",
    "var1 = mean(log_CSP - log_CSM,1)\n",
    "var2 =  log_plus - log_minus \n",
    "#var1 = var1[responders]\n",
    "#var2 = var2[responders]\n",
    "\n",
    "tmp = smf.OLS(var2,var1).fit()\n",
    "scatter(var1,var2,color='xkcd:indigo',alpha=.3,s=50, label='subject data')\n",
    "#scatter(var1[cb],var2[cb],color='xkcd:purple',s=50,alpha=.8,marker='x',label='counterbalanced subjects')\n",
    "\n",
    "plot(var1, tmp.predict(var1) + mean(var1), color='xkcd:purple',linewidth=15,alpha=.1, label='linear fit')\n",
    "legend(loc=4)\n",
    "xlabel('anticipation\\n CS+ minus CS-',fontsize=13)\n",
    "ylabel('renewal\\n CS+ minus CS-',fontsize=13)\n",
    "title('Relationship between conditioning to CS+ on day 1 \\n with renewal (p=%.3f) removing non-responders \\n'\n",
    "      %(tmp.pvalues),fontsize=15); "
   ]
  },
  {
   "cell_type": "code",
   "execution_count": null,
   "metadata": {
    "collapsed": true
   },
   "outputs": [],
   "source": [
    "from scipy import stats"
   ]
  },
  {
   "cell_type": "code",
   "execution_count": null,
   "metadata": {
    "collapsed": true
   },
   "outputs": [],
   "source": []
  },
  {
   "cell_type": "code",
   "execution_count": null,
   "metadata": {
    "collapsed": false
   },
   "outputs": [],
   "source": [
    "figure(figsize=[12, 8])\n",
    "\n",
    "var1 = mean(CSP - CSM,1)#[conditionedSubjects]\n",
    "var2 =  plus - minus #plus[conditionedSubjects]-minus[conditionedSubjects]\n",
    "\n",
    "responders = np.array(abs(plus) > .02) | np.array(abs(minus) > .02)\n",
    "\n",
    "log_CSP = log(1 + CSP)\n",
    "log_CSM = log(1 + CSM)\n",
    "log_plus = log(1 + plus)\n",
    "log_minus= log(1 + minus)\n",
    "var1 = mean(log_CSP - log_CSM,1)#[conditionedSubjects]\n",
    "var2 =  log_plus - log_minus #plus[conditionedSubjects]-minus[conditionedSubjects]\n",
    "\n",
    "scatter(var1[responders], var2[responders], color='xkcd:indigo',alpha=.2, s=150, label='Day 2: CS+ First')\n",
    "\n",
    "#scatter(var1[responders][cb], var2[responders][cb], marker='x', color='xkcd:indigo',alpha=.9, s=100, label='Day 2: CS- First')\n",
    "use_lim = np.arange(min(var1), max(var1), .1)\n",
    "edge_function = np.polyfit(var1, var2, 1)\n",
    "function_ = np.poly1d(edge_function)\n",
    "line_fit = function_(use_lim)\n",
    "plot(use_lim, line_fit, alpha=.1, linewidth=15, color='xkcd:indigo')\n",
    "\n",
    "leg = legend(fontsize=15, fancybox=True, frameon=True, bbox_to_anchor=(.269, 1, 1, 0))\n",
    "leg.get_frame().set_edgecolor('xkcd:indigo')\n",
    "leg.get_frame().set_linewidth(2)\n",
    "leg.get_frame().set_alpha(.4)\n",
    "\n",
    "xlabel('differential anticipatory response on day one\\n (CS+ minus CS-)',fontsize=13)\n",
    "ylabel('renewal\\n CS+ minus CS-',fontsize=13)\n",
    "title(\"\\nRelationship between 'anticipation' of shock on day one with with renewal \\n --controlling for order effects, removing non-responders: p < %.3f\\n\"% (tmp.pvalues),fontsize=16); "
   ]
  },
  {
   "cell_type": "markdown",
   "metadata": {},
   "source": [
    "# create a model removing non-responders! "
   ]
  },
  {
   "cell_type": "code",
   "execution_count": null,
   "metadata": {
    "collapsed": false
   },
   "outputs": [],
   "source": [
    "# CREATE A DATA FRAME FOR PHYSIO removing non-responders\n",
    "\n",
    "# response to first US\n",
    "iStim = 4\n",
    "#USplus, USminus = day1.amplitudeDifference('trans',iStim,'offset');\n",
    "US = log(1 + USplus) - log(1 + USminus)\n",
    "#US = USplus - USminus\n",
    "\n",
    "# last stimulus from extinction\n",
    "iStim = 21\n",
    "plus_end, minus_end = day1.amplitudeDifference('trans',iStim,'onset');\n",
    "\n",
    "# first stimulus on day 2\n",
    "iStim = 0\n",
    "plus, minus = day2.amplitudeDifference('trans',iStim,'onset');\n",
    "\n",
    "responders = np.array(abs(plus) > .02) | np.array(abs(minus) > .02)\n",
    "\n",
    "# renewal on day 2\n",
    "renewal = (log(1 + plus) - log(1 + minus)) #- (log(1 + plus_end) - log(1 + minus_end))\n",
    "\n",
    "# difference across conditioning\n",
    "difference = mean(log(1 + CSP) - log(1 + CSM),1) #difference = log(1 + difference)\n",
    "\n",
    "# define non-responders as those who dont respond at all to the CS- on day two--better definition? \n",
    "#responders = abs(raw_renewal_minus) > .02\n",
    "#responders = mean(raw_CSPs,1) > .01\n",
    "#responders = np.array(raw_renewal_plus > .02) | np.array(raw_renewal_minus > .02)\n",
    "#responders = np.array(mean(raw_CSPs,1) > .01) | np.array(raw_renewal_plus > .02) | np.array(raw_renewal_minus > .02)\n",
    "# create data frame\n",
    "SCR = pandas.DataFrame({'renewal':renewal[responders],\n",
    "                        'prediction':difference[responders],\n",
    "                        'US':US[responders],\n",
    "                        'order':order[responders]})"
   ]
  },
  {
   "cell_type": "code",
   "execution_count": null,
   "metadata": {
    "collapsed": false
   },
   "outputs": [],
   "source": [
    "formula = 'renewal ~ prediction'\n",
    "model = ols(formula, SCR).fit()\n",
    "aov_table = anova_lm(model, typ=2)\n",
    "print(aov_table)"
   ]
  },
  {
   "cell_type": "code",
   "execution_count": null,
   "metadata": {
    "collapsed": false
   },
   "outputs": [],
   "source": [
    "formula = 'renewal ~ US + prediction + C(order)'\n",
    "model = ols(formula, SCR).fit()\n",
    "aov_table = anova_lm(model, typ=2)\n",
    "p_value = aov_table.values[2,3]\n",
    "print(aov_table)"
   ]
  },
  {
   "cell_type": "code",
   "execution_count": null,
   "metadata": {
    "collapsed": false
   },
   "outputs": [],
   "source": [
    "print('\\n\\twe lost %s people who were non responders\\n'%sum(responders == False)) "
   ]
  },
  {
   "cell_type": "markdown",
   "metadata": {},
   "source": [
    "# BOOM! SIGNIFICANCE CONTROLLING FOR ORDER!!?!! :::laughs::: "
   ]
  },
  {
   "cell_type": "markdown",
   "metadata": {},
   "source": [
    "# look at whether differential response on day one --> \"renewal\" to anything"
   ]
  },
  {
   "cell_type": "code",
   "execution_count": null,
   "metadata": {
    "collapsed": false
   },
   "outputs": [],
   "source": [
    "# CREATE A DATA FRAME FOR PHYSIO removing non-responders\n",
    "\n",
    "# response to first US\n",
    "iStim = 3\n",
    "\n",
    "USplus, USminus = day1.amplitudeDifference('trans',iStim,'offset');\n",
    "US = log(1 + USplus) - log(1 + USminus)\n",
    "#US = USplus - USminus\n",
    "\n",
    "# last stimulus from extinction\n",
    "iStim = -1\n",
    "plus_end, minus_end = day1.amplitudeDifference('trans',iStim,'onset');\n",
    "\n",
    "# first stimulus on day 2\n",
    "iStim = 0\n",
    "plus, minus = day2.amplitudeDifference('trans',iStim,'onset');\n",
    "responders = np.array(abs(plus) > .02) | np.array(abs(minus) > .02)\n",
    "\n",
    "# renewal on day 2\n",
    "renewal = (log(1 + plus) - log(1 + minus))# - (log(1 + plus_end) - log(1 + minus_end)))\n",
    "#renewal =  abs((plus - minus)) - (plus_end - minus_end))\n",
    "\n",
    "\n",
    "# difference across conditioning\n",
    "difference = abs(mean(log(1 + CSP) - log(1 + CSM),1)) #difference = log(1 + difference)\n",
    "#difference = (mean(CSP - CSM, 1)) #difference = log(1 + difference)\n",
    "\n",
    "# create data frame\n",
    "SCR = pandas.DataFrame({'renewal':renewal[responders],\n",
    "                        'prediction':difference[responders],\n",
    "                        'US':US[responders],\n",
    "                        'order':order[responders]})"
   ]
  },
  {
   "cell_type": "code",
   "execution_count": null,
   "metadata": {
    "collapsed": false
   },
   "outputs": [],
   "source": [
    "formula = 'renewal ~ US + prediction + C(order)'\n",
    "model = ols(formula, SCR).fit()\n",
    "aov_table = anova_lm(model, typ=2)\n",
    "p_value = aov_table.values[2,3]\n",
    "print(aov_table)"
   ]
  },
  {
   "cell_type": "code",
   "execution_count": null,
   "metadata": {
    "collapsed": false
   },
   "outputs": [],
   "source": [
    "figure(figsize=[12, 6.5])\n",
    "\n",
    "use_lim = np.arange(min(difference), max(difference), .1)\n",
    "edge_function = np.polyfit(SCR['prediction'], SCR['renewal'], 1)\n",
    "function_ = np.poly1d(edge_function)\n",
    "line_fit = function_(use_lim)\n",
    "#plot(use_lim, line_fit, alpha=.1, linewidth=15, color='xkcd:indigo')\n",
    "\n",
    "scatter(order, renewal)\n",
    "#scatter(difference[cb], renewal[cb], color='red')\n",
    "title('order, not differential resopnse on day 1, explains renewal')"
   ]
  },
  {
   "cell_type": "code",
   "execution_count": null,
   "metadata": {
    "collapsed": false
   },
   "outputs": [],
   "source": [
    "# iStim = 0\n",
    "# day2.nSeconds = 4.5\n",
    "\n",
    "# plus, minus = day2.amplitudeDifference('trans',iStim,'onset');\n",
    "# var1 = mean(log(1 + CSP) - log(1 + CSM),1)\n",
    "# var2 =  log(1 + plus) - log(1 + minus) \n",
    "\n",
    "# figure(figsize=[12, 6.5])\n",
    "\n",
    "# cb_controlled = responders[cb]\n",
    "# scatter(var1, var2, color='xkcd:indigo',alpha=.5, s=100, label='Day 2: CS+ First')\n",
    "\n",
    "# scatter(var1[cb_controlled], var2[cb_controlled], marker='D', color='xkcd:indigo',alpha=.5, s=100, label='Day 2: CS- First')\n",
    "\n",
    "# use_lim = np.arange(min(var1), max(var1), .1)\n",
    "# edge_function = np.polyfit(var1, var2, 1)\n",
    "# function_ = np.poly1d(edge_function)\n",
    "# line_fit = function_(use_lim)\n",
    "# plot(use_lim, line_fit, alpha=.1, linewidth=15, color='xkcd:indigo')\n",
    "\n",
    "# leg = legend(fontsize=15, fancybox=True, frameon=True, loc=4) #bbox_to_anchor=(.2, 1, 1, 0))\n",
    "# leg.get_frame().set_edgecolor('xkcd:indigo')\n",
    "# leg.get_frame().set_linewidth(2)\n",
    "# leg.get_frame().set_alpha(.4)\n",
    "\n",
    "# xlabel('differential anticipatory response on day one\\n (CS+ minus CS-)',fontsize=13)\n",
    "# ylabel('renewal\\n CS+ minus CS-',fontsize=13)\n",
    "# title(\"\\nRelationship between 'anticipation' of shock on day one with with renewal \\n --controlling for order effects, removing non-responders: p < %.3f\\n\"% p_value,fontsize=16); "
   ]
  },
  {
   "cell_type": "code",
   "execution_count": null,
   "metadata": {
    "collapsed": true
   },
   "outputs": [],
   "source": [
    "iStim = 0\n",
    "day2.nSeconds = 4.5\n",
    "\n",
    "plus, minus = day2.amplitudeDifference('trans',iStim,'onset');\n",
    "var1 = mean(log(1 + CSP[responders]) - log(1 + CSM[responders]),1)\n",
    "var2 =  log(1 + plus[responders]) - log(1 + minus[responders]) \n",
    "#var1 = mean(CSP[responders] - CSM[responders], 1)\n",
    "#var2 =  plus[responders] - minus[responders]"
   ]
  },
  {
   "cell_type": "code",
   "execution_count": null,
   "metadata": {
    "collapsed": true
   },
   "outputs": [],
   "source": []
  },
  {
   "cell_type": "raw",
   "metadata": {},
   "source": [
    "now impose some super lax constraint on the amount that someone had to learn on day 1"
   ]
  },
  {
   "cell_type": "raw",
   "metadata": {},
   "source": [
    "none of these are very good models--they're all parametric tests, which might not be a very good approximation for our data. but it's illustrative. "
   ]
  },
  {
   "cell_type": "code",
   "execution_count": null,
   "metadata": {
    "collapsed": false
   },
   "outputs": [],
   "source": [
    "fig, ax1 = plt.subplots(1,1)\n",
    "fig.set_size_inches([6,6])\n",
    "ax = imshow(physio.corr())\n",
    "ax1.set_xticks(np.array(list(range(0,len(physioTitleNames)))))\n",
    "ax1.set_xticklabels(physioTitleNames,rotation=90,fontsize=10); \n",
    "ax1.set_yticks(np.array(list(range(0,len(physioTitleNames)))))\n",
    "ax1.set_yticklabels(physioTitleNames,fontsize=10); \n",
    "ax.set_cmap('bwr') # 'coolwarm' # 'seismic'\n",
    "ax.set_clim([-1,1])\n",
    "ax.set_alpha(1)\n",
    "title('\\ncorrelation between physiological measurements\\n corr(renewal,prediction) = %.2f\\n'%\n",
    "      (renewalPredictionCorr),fontsize=10); "
   ]
  },
  {
   "cell_type": "code",
   "execution_count": null,
   "metadata": {
    "collapsed": false
   },
   "outputs": [],
   "source": [
    "import behavioral_analysis_functions_fyp as ba_fun\n",
    "self_report, subject_names = ba_fun.generate_data_frame()\n",
    "ba_fun.correlation_matrix(self_report)"
   ]
  },
  {
   "cell_type": "code",
   "execution_count": null,
   "metadata": {
    "collapsed": false
   },
   "outputs": [],
   "source": [
    "SCR.index = day2.subjectNames\n",
    "count = 0\n",
    "for isubject in range(0, len(SCR)):\n",
    "    if self_report.index[count] in SCR.index[isubject]: \n",
    "        for ikey in self_report.keys():\n",
    "            SCR.loc[SCR.index[isubject], ikey] =  self_report.loc[self_report.index[count], ikey]\n",
    "        count = count + 1 \n",
    "    else: \n",
    "        pass"
   ]
  },
  {
   "cell_type": "code",
   "execution_count": null,
   "metadata": {
    "collapsed": false
   },
   "outputs": [],
   "source": [
    "fig, ax1 = plt.subplots(1,1)\n",
    "fig.set_size_inches([10,10])\n",
    "ax = plt.imshow(SCR.corr())\n",
    "title_names = list(SCR.corr().keys())\n",
    "ax1.set_xticks(np.array(list(range(0,len(title_names)))))\n",
    "ax1.set_xticklabels(title_names,rotation=70);\n",
    "ax1.set_yticks(np.array(list(range(0,len(title_names)))))\n",
    "ax1.set_yticklabels(title_names);\n",
    "ax.set_cmap('bwr') # 'coolwarm' # 'seismic'\n",
    "ax.set_clim([-1,1])\n",
    "ax.set_alpha(1)\n",
    "plt.title('correlation between self report measures\\n');\n",
    "#plt.colorbar()\n",
    "plt.show()"
   ]
  },
  {
   "cell_type": "code",
   "execution_count": null,
   "metadata": {
    "collapsed": false
   },
   "outputs": [],
   "source": [
    "# formula = 'renewal ~ prediction + correctColor'\n",
    "# model = ols(formula, SCR).fit()\n",
    "# aov_table = anova_lm(model, typ=2)\n",
    "# print(aov_table)"
   ]
  },
  {
   "cell_type": "code",
   "execution_count": null,
   "metadata": {
    "collapsed": true
   },
   "outputs": [],
   "source": [
    "# 'US',\n",
    "#  'order',\n",
    "#  'prediction',\n",
    "#  'renewal',\n",
    "#  'post: relate',\n",
    "#  'post: otherPain',\n",
    "#  'post: color',\n",
    "#  'pre: aversive',\n",
    "#  'post: selfPain',\n",
    "#  'post: familiar',\n",
    "#  'post: like',\n",
    "#  'post: similar',\n",
    "#  'pre: voltage',\n",
    "#  'color',\n",
    "#  'belief',\n",
    "#  'third',\n",
    "#  'first',\n",
    "#  'correctColor',\n",
    "#  'expectShock'"
   ]
  }
 ],
 "metadata": {
  "kernelspec": {
   "display_name": "Python 2",
   "language": "python",
   "name": "python2"
  },
  "language_info": {
   "codemirror_mode": {
    "name": "ipython",
    "version": 2
   },
   "file_extension": ".py",
   "mimetype": "text/x-python",
   "name": "python",
   "nbconvert_exporter": "python",
   "pygments_lexer": "ipython2",
   "version": "2.7.13"
  }
 },
 "nbformat": 4,
 "nbformat_minor": 2
}
