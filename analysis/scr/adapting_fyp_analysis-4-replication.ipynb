{
 "cells": [
  {
   "cell_type": "code",
   "execution_count": 116,
   "metadata": {
    "collapsed": false
   },
   "outputs": [],
   "source": [
    "# load functions for data analysis\n",
    "from adapting_fyp_analysis import experimental, visualizeStats\n",
    "from statsmodels.stats.anova import anova_lm\n",
    "from statsmodels.formula.api import ols\n",
    "import statsmodels.formula.api as smf    \n",
    "import pandas, os, scipy\n",
    "import numpy as np\n",
    "import seaborn as sns\n",
    "\n",
    "from scipy import stats"
   ]
  },
  {
   "cell_type": "code",
   "execution_count": 117,
   "metadata": {
    "collapsed": false
   },
   "outputs": [
    {
     "name": "stdout",
     "output_type": "stream",
     "text": [
      "Populating the interactive namespace from numpy and matplotlib\n"
     ]
    }
   ],
   "source": [
    "% pylab inline"
   ]
  },
  {
   "cell_type": "code",
   "execution_count": 118,
   "metadata": {
    "collapsed": true
   },
   "outputs": [],
   "source": [
    "data_path = '/Users/biota/Desktop/sSL/experiment_2/collection/scr_data/'"
   ]
  },
  {
   "cell_type": "code",
   "execution_count": 119,
   "metadata": {
    "collapsed": false
   },
   "outputs": [],
   "source": [
    "day_one = experimental(data_path)\n",
    "day_one.day = 1\n",
    "day_one.preprocessData()"
   ]
  },
  {
   "cell_type": "code",
   "execution_count": 120,
   "metadata": {
    "collapsed": false
   },
   "outputs": [],
   "source": [
    "day_two = experimental(data_path)\n",
    "day_two.day = 2\n",
    "day_two.preprocessData()"
   ]
  },
  {
   "cell_type": "code",
   "execution_count": 147,
   "metadata": {
    "collapsed": true
   },
   "outputs": [],
   "source": [
    "cb = []; cb_name = []\n",
    "bc = []; bc_name = []\n",
    "\n",
    "for i_subject in range(0,len(day_two.subjectNames)): \n",
    "    \n",
    "    subject_number = int(day_two.subjectNames[i_subject][1:3])\n",
    "    \n",
    "    condMarkers = np.copy(day_two.transData[i_subject][1])\n",
    "    neg_ons = day_two.stimuli(condMarkers[:,1])[0]\n",
    "    pos_ons = day_two.stimuli(condMarkers[:,0])[0]\n",
    "    \n",
    "    if pos_ons[0] > neg_ons[0]: \n",
    "        bc.append(i_subject)\n",
    "        bc_name.append(subject_number)\n",
    "    else: \n",
    "        cb.append(i_subject)\n",
    "        cb_name.append(subject_number)\n",
    "        \n",
    "cb = np.array(cb)\n",
    "bc = np.array(bc)"
   ]
  },
  {
   "cell_type": "code",
   "execution_count": 148,
   "metadata": {
    "collapsed": false
   },
   "outputs": [
    {
     "data": {
      "text/plain": [
       "array([ 0.,  0.,  1.,  0.,  0.])"
      ]
     },
     "execution_count": 148,
     "metadata": {},
     "output_type": "execute_result"
    }
   ],
   "source": [
    "\n",
    "order = np.zeros(day_two.nSubjects)\n",
    "order[cb] = 1\n",
    "order"
   ]
  },
  {
   "cell_type": "code",
   "execution_count": 149,
   "metadata": {
    "collapsed": true
   },
   "outputs": [],
   "source": [
    "conditioning_pos_offsets = np.zeros([day_one.nSubjects,len(range(3,12))])\n",
    "conditioning_neg_offsets = np.zeros([day_one.nSubjects,len(range(3,12))])\n",
    "\n",
    "day_one.nSeconds = 4.5\n",
    "conditioning = list(range(3,12))\n",
    "for iStim in range(0,len(conditioning)):\n",
    "    conditioning_neg_offsets[:,iStim], conditioning_pos_offsets[:,iStim] = day_one.amplitudeDifference('trans',\n",
    "                                                                                                       conditioning[iStim],\n",
    "                                                                                                       'offset');\n",
    "conditioning_significance_offsets = np.zeros(day_one.nSubjects)\n",
    "for iSubject in range(0,day_one.nSubjects): \n",
    "    conditioning_significance_offsets[iSubject] = scipy.stats.wilcoxon(conditioning_pos_offsets[iSubject,:],\n",
    "                                                                     conditioning_neg_offsets[iSubject,:])[1];"
   ]
  },
  {
   "cell_type": "code",
   "execution_count": null,
   "metadata": {
    "collapsed": true
   },
   "outputs": [],
   "source": []
  },
  {
   "cell_type": "code",
   "execution_count": 150,
   "metadata": {
    "collapsed": true
   },
   "outputs": [],
   "source": [
    "start_con_onsets = 4\n",
    "end_con_onsets   = 13\n",
    "conditioning_pos_onsets = np.zeros([day_one.nSubjects,len(range(start_con_onsets,end_con_onsets))])\n",
    "conditioning_neg_onsets = np.zeros([day_one.nSubjects,len(range(start_con_onsets,end_con_onsets))])\n",
    "\n",
    "day_one.nSeconds = 4.5\n",
    "conditioning = list(range(start_con_onsets,end_con_onsets))\n",
    "\n",
    "for i_stim in range(0,len(conditioning)):\n",
    "    conditioning_neg_onsets[:,i_stim], conditioning_pos_onsets[:,i_stim] = day_one.amplitudeDifference('trans',\n",
    "                                                                           conditioning[i_stim],\n",
    "                                                                           'onset');\n",
    "conditioning_significance_onsets = np.zeros(day_one.nSubjects)\n",
    "\n",
    "for i_subject in range(0,day_one.nSubjects): \n",
    "    conditioning_significance_onsets[i_subject] = scipy.stats.wilcoxon(conditioning_pos_onsets[i_subject,:],\n",
    "                                                                 conditioning_neg_onsets[i_subject,:])[1];"
   ]
  },
  {
   "cell_type": "code",
   "execution_count": null,
   "metadata": {
    "collapsed": true
   },
   "outputs": [],
   "source": []
  },
  {
   "cell_type": "code",
   "execution_count": 152,
   "metadata": {
    "collapsed": true
   },
   "outputs": [],
   "source": [
    "\n",
    "iStim = 0\n",
    "day_two.nSeconds = 4.5\n",
    "renewal_minus, renewal_plus = day_two.amplitudeDifference('trans',iStim,'onset');\n"
   ]
  },
  {
   "cell_type": "code",
   "execution_count": null,
   "metadata": {
    "collapsed": false
   },
   "outputs": [],
   "source": []
  },
  {
   "cell_type": "code",
   "execution_count": 153,
   "metadata": {
    "collapsed": false
   },
   "outputs": [],
   "source": [
    "# s_i = 0\n",
    "# print(day_two.subjectNames[s_i:])\n",
    "# s_cb = cb[s_i:]"
   ]
  },
  {
   "cell_type": "code",
   "execution_count": null,
   "metadata": {
    "collapsed": true
   },
   "outputs": [],
   "source": []
  },
  {
   "cell_type": "code",
   "execution_count": 154,
   "metadata": {
    "collapsed": true
   },
   "outputs": [],
   "source": [
    "log_conditioning_pos_onsets = log(1 + conditioning_pos_onsets)\n",
    "log_conditioning_neg_onsets = log(1 + conditioning_neg_onsets)\n",
    "log_renewal_plus = log(1 + renewal_plus)\n",
    "log_renewal_minus = log(1 + renewal_minus)\n",
    "\n",
    "log_learning = mean(log_conditioning_pos_onsets - log_conditioning_neg_onsets,1)\n",
    "log_renewal =  log_renewal_plus - log_renewal_minus "
   ]
  },
  {
   "cell_type": "code",
   "execution_count": null,
   "metadata": {
    "collapsed": true
   },
   "outputs": [],
   "source": []
  },
  {
   "cell_type": "code",
   "execution_count": 156,
   "metadata": {
    "collapsed": false
   },
   "outputs": [
    {
     "data": {
      "text/plain": [
       "<matplotlib.collections.PathCollection at 0x14d469290>"
      ]
     },
     "execution_count": 156,
     "metadata": {},
     "output_type": "execute_result"
    },
    {
     "data": {
      "image/png": "[encoded data removed]",
      "text/plain": [
       "<matplotlib.figure.Figure at 0x11469c5d0>"
      ]
     },
     "metadata": {},
     "output_type": "display_data"
    }
   ],
   "source": [
    "#scatter(order[cb], log_renewal_plus[cb])\n",
    "scatter(np.ones(len(cb)), log_renewal_minus[order==True], color='blue')\n",
    "scatter(np.ones(len(cb))+1, log_renewal_plus[order==True], color='red')\n",
    "\n",
    "tmp_len = len(np.nonzero(order==False)[0])\n",
    "scatter(np.ones(tmp_len), log_renewal_minus[order==False], color='blue')\n",
    "scatter(np.ones(tmp_len)+1, log_renewal_plus[order==False], color='red')"
   ]
  },
  {
   "cell_type": "code",
   "execution_count": 157,
   "metadata": {
    "collapsed": false
   },
   "outputs": [
    {
     "data": {
      "text/plain": [
       "<matplotlib.text.Text at 0x14d486150>"
      ]
     },
     "execution_count": 157,
     "metadata": {},
     "output_type": "execute_result"
    },
    {
     "data": {
      "image/png": "[encoded data removed]",
      "text/plain": [
       "<matplotlib.figure.Figure at 0x14d51a150>"
      ]
     },
     "metadata": {},
     "output_type": "display_data"
    }
   ],
   "source": [
    "\n",
    "figure(figsize=[8,6])\n",
    "jitter = np.random.randn(len(order))/20\n",
    "scatter(order + jitter,log_renewal + jitter, alpha=.8, s=90)\n",
    "scatter(order + jitter,log_renewal + jitter, color='darkcyan', alpha=.1, s=300)\n",
    "ylabel('Renewal \\nCS+ minus CS-\\n', rotation=90, fontsize=14)\n",
    "yticks([-.8, -.5,0,.5,.8],['', -.5,0,.5,''])\n",
    "xticks([0, 1],['\\nFirst CS','\\nSecond CS'], fontsize=14)\n",
    "xlim(-.2, 1.2)\n",
    "ylim(-2.5, 3)\n",
    "title('Main Effect of order..?\\n', fontsize=15)\n"
   ]
  },
  {
   "cell_type": "code",
   "execution_count": null,
   "metadata": {
    "collapsed": true
   },
   "outputs": [],
   "source": []
  },
  {
   "cell_type": "code",
   "execution_count": 159,
   "metadata": {
    "collapsed": false
   },
   "outputs": [
    {
     "data": {
      "image/png": "[encoded data removed]",
      "text/plain": [
       "<matplotlib.figure.Figure at 0x14d0b4d10>"
      ]
     },
     "metadata": {},
     "output_type": "display_data"
    }
   ],
   "source": [
    "figure(figsize=(10,6))\n",
    "\n",
    "x_axis = log_learning\n",
    "y_axis = log_renewal\n",
    "cb_x_axis = log_learning[order==True]; \n",
    "cb_x_axis = cb_x_axis\n",
    "cb_y_axis = log_renewal[order==True]; \n",
    "cb_y_axis = cb_y_axis\n",
    "\n",
    "scatter(x_axis, y_axis, color='xkcd:indigo',alpha=.3,s=180, label='CS+ first')\n",
    "scatter(cb_x_axis, cb_y_axis ,marker='x', color='xkcd:indigo',alpha=.4, s=10, linewidth=15, label='CS- first')\n",
    "\n",
    "# control aesthetics\n",
    "lgnd = legend(fontsize=13, fancybox=True, frameon=True, bbox_to_anchor=(.20, 1, 1, 0))\n",
    "lgnd.get_frame().set_edgecolor('xkcd:indigo')\n",
    "lgnd.get_frame().set_linewidth(2)\n",
    "lgnd.get_frame().set_alpha(.4)\n",
    "\n",
    "xlabel('Conditioning on day one\\n CS+ minus CS-',fontsize=13)\n",
    "ylabel('Renewal\\n CS+ minus CS-',fontsize=13)\n",
    "title('Relationship between conditioning to CS+ on day 1 with renewal\\n',fontsize=15); \n"
   ]
  },
  {
   "cell_type": "code",
   "execution_count": null,
   "metadata": {
    "collapsed": true
   },
   "outputs": [],
   "source": []
  },
  {
   "cell_type": "code",
   "execution_count": null,
   "metadata": {
    "collapsed": true
   },
   "outputs": [],
   "source": []
  },
  {
   "cell_type": "code",
   "execution_count": null,
   "metadata": {
    "collapsed": true
   },
   "outputs": [],
   "source": []
  },
  {
   "cell_type": "code",
   "execution_count": null,
   "metadata": {
    "collapsed": true
   },
   "outputs": [],
   "source": []
  },
  {
   "cell_type": "code",
   "execution_count": null,
   "metadata": {
    "collapsed": true
   },
   "outputs": [],
   "source": []
  },
  {
   "cell_type": "code",
   "execution_count": null,
   "metadata": {
    "collapsed": false
   },
   "outputs": [],
   "source": [
    "conditioning_start = 4\n",
    "conditioning_end  = 13\n",
    "conditioning = list(range(conditioning_start, conditioning_end))\n",
    "\n",
    "CSP = np.zeros([day1.nSubjects,len(conditioning)])\n",
    "CSM = np.zeros([day1.nSubjects,len(conditioning)])\n",
    "\n",
    "day1.nSeconds = 5\n",
    "for iStim in range(0,len(conditioning)):\n",
    "    CSP[:,iStim], CSM[:,iStim] = day1.amplitudeDifference('trans', conditioning[iStim], 'onset');\n",
    "\n",
    "# figure this error out\n",
    "# iStim = 15\n",
    "# last_plus, last_minus = day1.amplitudeDifference('trans',iStim, 'onset');\n",
    "# last_CS = last_plus - last_minus\n",
    "\n",
    "iStim = 0\n",
    "day2_minus, day2_plus = day2.amplitudeDifference('trans', iStim, 'onset');\n",
    "\n",
    "# only look at subjects that i've collected\n",
    "start_subject = 14\n",
    "included_subjects = day2.subjectNames[start_subject:]\n",
    "\n",
    "CSP = CSP[start_subject:]\n",
    "CSM = CSM[start_subject:]\n",
    "\n",
    "day2_minus = day2_minus[start_subject:]\n",
    "day2_plus = day2_plus[start_subject:]\n",
    "\n",
    "cb = cb[start_subject:]\n",
    "bc = bc[start_subject:]"
   ]
  },
  {
   "cell_type": "code",
   "execution_count": null,
   "metadata": {
    "collapsed": false
   },
   "outputs": [],
   "source": [
    "x_axis = mean(CSP - CSM,1)\n",
    "y_axis =  (day2_plus - day2_minus)# - last_CS\n",
    "\n",
    "slope, intercept, r_value, p_value, std_err = stats.linregress(x_axis, y_axis)\n",
    "\n",
    "figure(figsize=[12, 6.5])\n",
    "\n",
    "# plot data \n",
    "scatter(x_axis, y_axis, color='xkcd:indigo',alpha=.2, s=150, label='Day 2: CS+ first')\n",
    "#scatter(x_axis, y_axis, marker='x', color='xkcd:indigo',alpha=.9, s=100, label='Day 2: CS- First')\n",
    "\n",
    "# plot line fit to data\n",
    "x_line = np.arange(min(x_axis), max(x_axis), .1)\n",
    "y_line = slope * x_line + intercept \n",
    "plot(x_line, y_line, alpha=.1, linewidth=15, color='xkcd:indigo')\n",
    "\n",
    "# control aesthetics\n",
    "lgnd = legend(fontsize=13, fancybox=True, frameon=True, bbox_to_anchor=(.25, 1, 1, 0))\n",
    "lgnd.get_frame().set_edgecolor('xkcd:indigo')\n",
    "lgnd.get_frame().set_linewidth(2)\n",
    "lgnd.get_frame().set_alpha(.4)\n",
    "xlabel('differential anticipatory response on day one\\n (CS+ minus CS-)',fontsize=13)\n",
    "ylabel('renewal\\n CS+ minus CS-',fontsize=13)\n",
    "title(\"\\nRelationship between 'anticipation' of shock on day one with with renewal \\n wop wop: p < %.3f\\n\"% p_value,fontsize=16); \n",
    "\n",
    "for i_subject in range(len(day2_plus)): \n",
    "    plt.annotate(i_subject+start_subject, xy=(x_axis[i_subject], y_axis[i_subject]), \n",
    "                                 xytext=(-5, -20), textcoords='offset points', alpha=.5, fontsize=11)"
   ]
  },
  {
   "cell_type": "code",
   "execution_count": null,
   "metadata": {
    "collapsed": false
   },
   "outputs": [],
   "source": [
    "_, p = stats.wilcoxon(y_axis[bc], y_axis[cb])\n",
    "\n",
    "not_cb = np.nonzero([int(day2.subjectNames[ii][1:3]) not in cb for ii in range(len(cb))])[0]\n",
    "\n",
    "plt.scatter(np.ones(len(cb[6:])), y_axis[cb][6:], label='CS- first')\n",
    "plt.scatter(np.ones(len(bc[5:]))+1, y_axis[bc][5:],label='CS+ first')\n",
    "plt.ylim([-3,3])\n",
    "plt.legend(loc=4)\n",
    "plt.title('p < %s'%round(p,3)); "
   ]
  },
  {
   "cell_type": "code",
   "execution_count": null,
   "metadata": {
    "collapsed": false
   },
   "outputs": [],
   "source": []
  },
  {
   "cell_type": "code",
   "execution_count": null,
   "metadata": {
    "collapsed": false
   },
   "outputs": [],
   "source": []
  },
  {
   "cell_type": "code",
   "execution_count": null,
   "metadata": {
    "collapsed": false
   },
   "outputs": [],
   "source": [
    "x_axis"
   ]
  },
  {
   "cell_type": "code",
   "execution_count": null,
   "metadata": {
    "collapsed": false
   },
   "outputs": [],
   "source": [
    "included_subjects"
   ]
  },
  {
   "cell_type": "code",
   "execution_count": null,
   "metadata": {
    "collapsed": false
   },
   "outputs": [],
   "source": [
    "iStim = 3\n",
    "day1.nSeconds = 4\n",
    "plus, minus = day1.amplitudeDifference('raw',iStim,'offset');\n",
    "results = scipy.stats.wilcoxon(plus,minus);\n",
    "visualizeStats(plus,minus,results, \n",
    "               heading='FIRST PRESENTATION OF US ON DAY 1')"
   ]
  },
  {
   "cell_type": "code",
   "execution_count": null,
   "metadata": {
    "collapsed": false
   },
   "outputs": [],
   "source": [
    "iStim = 0\n",
    "day1.nSeconds = 4\n",
    "plus, minus = day1.amplitudeDifference('raw', iStim, 'onset');\n",
    "\n",
    "results = scipy.stats.wilcoxon(plus,minus);\n",
    "visualizeStats(plus,minus,results, \n",
    "               heading='FIRST PRESENTATION OF STIMULI ON DAY ONE')"
   ]
  },
  {
   "cell_type": "code",
   "execution_count": null,
   "metadata": {
    "collapsed": false
   },
   "outputs": [],
   "source": [
    "iStim = 0\n",
    "day2.nSeconds = 4\n",
    "minus, plus = day2.amplitudeDifference('trans',iStim,'onset');\n",
    "plus = plus[11:]\n",
    "minus = minus[11:]"
   ]
  },
  {
   "cell_type": "code",
   "execution_count": null,
   "metadata": {
    "collapsed": false
   },
   "outputs": [],
   "source": [
    "results = scipy.stats.wilcoxon(plus, minus);\n",
    "visualizeStats(plus, minus, results, heading='First presentation of Stimuli on day two')"
   ]
  },
  {
   "cell_type": "code",
   "execution_count": null,
   "metadata": {
    "collapsed": false
   },
   "outputs": [],
   "source": []
  },
  {
   "cell_type": "code",
   "execution_count": null,
   "metadata": {
    "collapsed": false
   },
   "outputs": [],
   "source": []
  },
  {
   "cell_type": "code",
   "execution_count": null,
   "metadata": {
    "collapsed": false
   },
   "outputs": [],
   "source": [
    "x_axis = mean(CSP - CSM,1)\n",
    "y_axis =  (plus - minus) #- last_CS\n",
    "#y_abs =   abs(y_axis)[11:] # y_abs[abs(x_axis) > .1]\n",
    "#x_axis = x_axis[11:]       #[abs(x_axis) > .1]\n",
    "x_axis = x_axis[11:]\n",
    "y_axis = y_axis[11:]"
   ]
  },
  {
   "cell_type": "code",
   "execution_count": null,
   "metadata": {
    "collapsed": false
   },
   "outputs": [],
   "source": [
    "slope, intercept, r_value, p_value, std_err = stats.linregress(x_axis,y_axis)"
   ]
  },
  {
   "cell_type": "code",
   "execution_count": null,
   "metadata": {
    "collapsed": false
   },
   "outputs": [],
   "source": [
    "figure(figsize=[12, 6.5])\n",
    "\n",
    "scatter(x_axis, y_axis, color='xkcd:indigo',alpha=.2, s=150, label='Day 2: CS+ first')\n",
    "#scatter(x_axis[cb], y_abs[cb], marker='x', color='xkcd:indigo',alpha=.9, s=100, label='Day 2: CS- First')\n",
    "\n",
    "x = np.arange(min(x_axis), max(x_axis), .1)\n",
    "y = slope*x + intercept \n",
    "plot(x, y, alpha=.1, linewidth=15, color='xkcd:indigo')\n",
    "\n",
    "lgnd = legend(fontsize=10, fancybox=True, frameon=True, loc=2) #bbox_to_anchor=(.2, 1, 1, 0))\n",
    "lgnd.get_frame().set_edgecolor('xkcd:indigo')\n",
    "lgnd.get_frame().set_linewidth(2)\n",
    "lgnd.get_frame().set_alpha(.4)\n",
    "xlabel('differential anticipatory response on day one\\n (CS+ minus CS-)',fontsize=13)\n",
    "ylabel('renewal\\n CS+ minus CS-',fontsize=13)\n",
    "title(\"\\nRelationship between 'anticipation' of shock on day one with response to first CS day two \\n\", fontsize=16); "
   ]
  },
  {
   "cell_type": "code",
   "execution_count": null,
   "metadata": {
    "collapsed": false
   },
   "outputs": [],
   "source": [
    "# figure(figsize=[12, 6.5])\n",
    "\n",
    "# scatter(x_axis[11:], y_abs[11:], color='xkcd:indigo',alpha=.2, s=150, label='Day 2: CS+ first')\n",
    "# #scatter(x_axis[cb], y_abs[cb], marker='x', color='xkcd:indigo',alpha=.9, s=100, label='Day 2: CS- First')\n",
    "\n",
    "# x = np.arange(min(x_axis[11:]), max(x_axis[11:]), .1)\n",
    "# y = slope*x + intercept \n",
    "# plot(x, y, alpha=.1, linewidth=15, color='xkcd:indigo')\n",
    "\n",
    "# lgnd = legend(fontsize=10, fancybox=True, frameon=True, loc=2) #bbox_to_anchor=(.2, 1, 1, 0))\n",
    "# lgnd.get_frame().set_edgecolor('xkcd:indigo')\n",
    "# lgnd.get_frame().set_linewidth(2)\n",
    "# lgnd.get_frame().set_alpha(.4)\n",
    "# xlabel('differential anticipatory response on day one\\n (CS+ minus CS-)',fontsize=13)\n",
    "# ylabel('renewal\\n CS+ minus CS-',fontsize=13)\n",
    "# title(\"\\nRelationship between 'anticipation' of shock on day one with with renewal \\n\" \\\n",
    "#        \"p < %.3f\\n\"% p_value,fontsize=16); "
   ]
  },
  {
   "cell_type": "code",
   "execution_count": null,
   "metadata": {
    "collapsed": false
   },
   "outputs": [],
   "source": [
    "# CREATE A DATA FRAME FOR PHYSIO \n",
    "\n",
    "# response to first US\n",
    "iStim = 3\n",
    "USplus, USminus = day1.amplitudeDifference('trans',iStim,'offset');\n",
    "US = USplus - USminus\n",
    "\n",
    "# last stimulus from extinction\n",
    "#iStim = 20\n",
    "#plus_end, minus_end = day1.amplitudeDifference('trans',iStim,'onset');\n",
    "\n",
    "# first stimulus on day 2\n",
    "iStim = 0\n",
    "minus, plus = day2.amplitudeDifference('trans',iStim,'onset');\n",
    "# renewal on day 2\n",
    "renewal = (plus - minus)# - (plus_end - minus_end)\n",
    "\n",
    "# difference across conditioning\n",
    "difference = mean(CSP - CSM,1) #difference = log(1 + difference)\n",
    "\n",
    "# take counterbalanced subjects\n",
    "order = np.zeros(len(plus))\n",
    "order[cb] = 1 \n",
    "\n",
    "# create data frame\n",
    "SCR = pandas.DataFrame({'renewal':renewal,'prediction':difference,'US':US,'order':order})"
   ]
  },
  {
   "cell_type": "code",
   "execution_count": null,
   "metadata": {
    "collapsed": false
   },
   "outputs": [],
   "source": [
    "formula = 'renewal ~ order + difference'\n",
    "model = ols(formula, SCR).fit()\n",
    "aov_table = anova_lm(model, typ=2)\n",
    "print(aov_table)"
   ]
  },
  {
   "cell_type": "code",
   "execution_count": null,
   "metadata": {
    "collapsed": false
   },
   "outputs": [],
   "source": [
    "formula = 'renewal ~ prediction'\n",
    "model = ols(formula, SCR).fit()\n",
    "aov_table = anova_lm(model, typ=2)\n",
    "print(aov_table)"
   ]
  },
  {
   "cell_type": "code",
   "execution_count": null,
   "metadata": {
    "collapsed": false
   },
   "outputs": [],
   "source": [
    "formula = 'renewal ~ US + prediction + C(order)'\n",
    "model = ols(formula, SCR).fit()\n",
    "aov_table = anova_lm(model, typ=2)\n",
    "print(aov_table)"
   ]
  },
  {
   "cell_type": "code",
   "execution_count": null,
   "metadata": {
    "collapsed": false
   },
   "outputs": [],
   "source": [
    "physio = pandas.DataFrame() \n",
    "#physio['firstMinusLast'] = ( plusRen - minusRen ) - (plusEnd - minusEnd)\n",
    "physio['renewal'] = renewal\n",
    "physio['prediction'] = mean(log(1+CSP)- log(1+CSM),1)\n",
    "#physio['resonance'] = resonance\n",
    "physio['US'] = US\n",
    "\n",
    "#physioTitleNames = ['firstMinusLast','renewal','prediction','US','resonance','meanSurprise']\n",
    "physioTitleNames = ['renewal','prediction','first US']\n",
    "\n",
    "renewalPredictionCorr = physio['renewal'].corr(physio['prediction'])\n",
    "physio.corr()"
   ]
  },
  {
   "cell_type": "raw",
   "metadata": {},
   "source": [
    "now impose some super lax constraint on the amount that someone had to learn on day 1"
   ]
  },
  {
   "cell_type": "code",
   "execution_count": null,
   "metadata": {
    "collapsed": false
   },
   "outputs": [],
   "source": [
    "# p_value = .1\n",
    "# c_subs = find(conResults < p_value)\n",
    "\n",
    "# # response to first US\n",
    "# iStim = 3\n",
    "# USplus, USminus = day1.amplitudeDifference('trans',iStim,'offset');\n",
    "# US = USplus[c_subs] - USminus[c_subs]\n",
    "\n",
    "# # last stimulus from extinction\n",
    "# iStim = 20\n",
    "# plus_end, minus_end = day1.amplitudeDifference('trans',iStim,'onset');\n",
    "\n",
    "# # first stimulus on day 2\n",
    "# iStim = 0\n",
    "# plus, minus = day2.amplitudeDifference('trans',iStim,'onset');\n",
    "# # renewal on day 2\n",
    "# renewal = (plus[c_subs] - minus[c_subs]) - (plus_end[c_subs] - minus_end[c_subs])\n",
    "\n",
    "# # difference across conditioning\n",
    "# difference = mean(CSP[c_subs] - CSM[c_subs],1) #difference = log(1 + difference)\n",
    "\n",
    "# # take counterbalanced subjects\n",
    "# order = np.zeros(len(plus))\n",
    "# order[cb] = 1 \n",
    "# order = order[c_subs]\n",
    "\n",
    "# # create data frame\n",
    "# SCR = pandas.DataFrame({'renewal':renewal,'prediction':difference,'US':US,'order':order})"
   ]
  },
  {
   "cell_type": "code",
   "execution_count": null,
   "metadata": {
    "collapsed": false
   },
   "outputs": [],
   "source": [
    "p_value = .1\n",
    "c_subs = range(day1.nSubjects)\n",
    "\n",
    "# response to first US\n",
    "iStim = 3\n",
    "USplus, USminus = day1.amplitudeDifference('trans',iStim,'offset');\n",
    "US = USplus[c_subs] - USminus[c_subs]\n",
    "\n",
    "# last stimulus from extinction\n",
    "iStim = 20\n",
    "plus_end, minus_end = day1.amplitudeDifference('trans',iStim,'onset');\n",
    "\n",
    "# first stimulus on day 2\n",
    "iStim = 0\n",
    "plus, minus = day2.amplitudeDifference('trans',iStim,'onset');\n",
    "# renewal on day 2\n",
    "renewal = (plus[c_subs] - minus[c_subs]) - (plus_end[c_subs] - minus_end[c_subs])\n",
    "\n",
    "# difference across conditioning\n",
    "difference = mean(CSP[c_subs] - CSM[c_subs],1) #difference = log(1 + difference)\n",
    "\n",
    "# take counterbalanced subjects\n",
    "order = np.zeros(len(plus))\n",
    "order[cb] = 1 \n",
    "order = order[c_subs]\n",
    "\n",
    "# create data frame\n",
    "SCR = pandas.DataFrame({'renewal':renewal,'prediction':difference,'US':US,'order':order})"
   ]
  },
  {
   "cell_type": "code",
   "execution_count": null,
   "metadata": {
    "collapsed": false
   },
   "outputs": [],
   "source": [
    "# # formula = 'renewal ~ prediction'\n",
    "# # model = ols(formula, SCR).fit()\n",
    "# # aov_table = anova_lm(model, typ=2)\n",
    "# # print(aov_table)\n",
    "\n",
    "# print ('\\n\\n')\n",
    "# formula = 'renewal ~ US + prediction'#+ C(order)'\n",
    "# model = ols(formula, SCR).fit()\n",
    "# aov_table = anova_lm(model, typ=2)\n",
    "# print(aov_table)"
   ]
  },
  {
   "cell_type": "raw",
   "metadata": {},
   "source": [
    "none of these are very good models--they're all parametric tests, which might not be a very good approximation for our data. but it's illustrative. "
   ]
  },
  {
   "cell_type": "code",
   "execution_count": null,
   "metadata": {
    "collapsed": false
   },
   "outputs": [],
   "source": [
    "fig, ax1 = plt.subplots(1,1)\n",
    "fig.set_size_inches([6,6])\n",
    "ax = imshow(physio.corr())\n",
    "ax1.set_xticks(np.array(list(range(0,len(physioTitleNames)))))\n",
    "ax1.set_xticklabels(physioTitleNames,rotation=90,fontsize=10); \n",
    "ax1.set_yticks(np.array(list(range(0,len(physioTitleNames)))))\n",
    "ax1.set_yticklabels(physioTitleNames,fontsize=10); \n",
    "ax.set_cmap('bwr') # 'coolwarm' # 'seismic'\n",
    "ax.set_clim([-1,1])\n",
    "ax.set_alpha(1)\n",
    "title('\\ncorrelation between physiological measurements\\n corr(renewal,prediction) = %.2f\\n'%\n",
    "      (renewalPredictionCorr),fontsize=15); \n",
    "colorbar()"
   ]
  },
  {
   "cell_type": "code",
   "execution_count": null,
   "metadata": {
    "collapsed": true
   },
   "outputs": [],
   "source": [
    "import behavioral_analysis_functions_fyp as behave"
   ]
  },
  {
   "cell_type": "code",
   "execution_count": null,
   "metadata": {
    "collapsed": false
   },
   "outputs": [],
   "source": [
    "behavioral_data = '/Users/biota/Desktop/sSL/experiment_2/collection/scr_data/'\n",
    "self_report, subject_names = behave.generate_data_frame(behavioral_data)"
   ]
  },
  {
   "cell_type": "code",
   "execution_count": null,
   "metadata": {
    "collapsed": false
   },
   "outputs": [],
   "source": [
    "self_report['expectShock'].values"
   ]
  },
  {
   "cell_type": "code",
   "execution_count": null,
   "metadata": {
    "collapsed": false
   },
   "outputs": [],
   "source": [
    "behave.correlation_matrix(self_report)"
   ]
  },
  {
   "cell_type": "code",
   "execution_count": null,
   "metadata": {
    "collapsed": false
   },
   "outputs": [],
   "source": [
    "SCR.index = day2.subjectNames\n",
    "count = 0\n",
    "for isubject in range(0, len(SCR)):\n",
    "    if self_report.index[count] in SCR.index[isubject]: \n",
    "        for ikey in self_report.keys():\n",
    "            SCR.loc[SCR.index[isubject], ikey] =  self_report.loc[self_report.index[count], ikey]\n",
    "        count = count + 1 \n",
    "    else: \n",
    "        pass"
   ]
  },
  {
   "cell_type": "code",
   "execution_count": null,
   "metadata": {
    "collapsed": false
   },
   "outputs": [],
   "source": [
    "fig, ax1 = plt.subplots(1,1)\n",
    "fig.set_size_inches([10,10])\n",
    "ax = plt.imshow(SCR.corr())\n",
    "title_names = list(SCR.corr().keys())\n",
    "ax1.set_xticks(np.array(list(range(0,len(title_names)))))\n",
    "ax1.set_xticklabels(title_names,rotation=70);\n",
    "ax1.set_yticks(np.array(list(range(0,len(title_names)))))\n",
    "ax1.set_yticklabels(title_names);\n",
    "ax.set_cmap('bwr') # 'coolwarm' # 'seismic'\n",
    "ax.set_clim([-1,1])\n",
    "ax.set_alpha(1)\n",
    "plt.title('correlation between self report measures\\n');\n",
    "#plt.colorbar()\n",
    "plt.show()"
   ]
  },
  {
   "cell_type": "code",
   "execution_count": null,
   "metadata": {
    "collapsed": false
   },
   "outputs": [],
   "source": [
    "formula = 'renewal ~ prediction + correctColor'\n",
    "model = ols(formula, SCR).fit()\n",
    "aov_table = anova_lm(model, typ=2)\n",
    "print(aov_table)"
   ]
  },
  {
   "cell_type": "code",
   "execution_count": null,
   "metadata": {
    "collapsed": true
   },
   "outputs": [],
   "source": []
  },
  {
   "cell_type": "code",
   "execution_count": null,
   "metadata": {
    "collapsed": true
   },
   "outputs": [],
   "source": []
  },
  {
   "cell_type": "code",
   "execution_count": null,
   "metadata": {
    "collapsed": true
   },
   "outputs": [],
   "source": []
  }
 ],
 "metadata": {
  "kernelspec": {
   "display_name": "Python 2",
   "language": "python",
   "name": "python2"
  },
  "language_info": {
   "codemirror_mode": {
    "name": "ipython",
    "version": 2
   },
   "file_extension": ".py",
   "mimetype": "text/x-python",
   "name": "python",
   "nbconvert_exporter": "python",
   "pygments_lexer": "ipython2",
   "version": "2.7.13"
  }
 },
 "nbformat": 4,
 "nbformat_minor": 2
}
