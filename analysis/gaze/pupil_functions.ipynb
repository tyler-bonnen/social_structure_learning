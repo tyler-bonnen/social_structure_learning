{
 "cells": [
  {
   "cell_type": "code",
   "execution_count": null,
   "metadata": {
    "collapsed": true
   },
   "outputs": [],
   "source": [
    "% matplotlib inline "
   ]
  },
  {
   "cell_type": "code",
   "execution_count": null,
   "metadata": {
    "collapsed": true
   },
   "outputs": [],
   "source": [
    "import matplotlib.pylab as plt"
   ]
  },
  {
   "cell_type": "code",
   "execution_count": 3,
   "metadata": {
    "collapsed": false
   },
   "outputs": [],
   "source": [
    "import scipy.signal as signal\n",
    "import numpy as np \n",
    "import os, csv"
   ]
  },
  {
   "cell_type": "code",
   "execution_count": 4,
   "metadata": {
    "collapsed": false
   },
   "outputs": [],
   "source": [
    "def load_data(subject_id, day, listen=0): \n",
    "    \"\"\"inputs: 'day' = int [1 OR 2]\n",
    "    returns a list of all subjects in gaze directory matching 'day'\"\"\"\n",
    "\n",
    "    data_file_names = []\n",
    "    data_path = '../../collection/gaze_data/'\n",
    "    folder_contents = os.listdir(data_path)\n",
    "    \n",
    "    for file in folder_contents: \n",
    "        if 'd%s.asc'%day in file and not 'x' in file: \n",
    "            data_file_names.append(file)\n",
    "                \n",
    "    for file_name in data_file_names: \n",
    "        if subject_id in file_name: \n",
    "            subject_path = data_path + file_name\n",
    "            if listen: print(\"loading data from subject'%s'\"%file_name) \n",
    "\n",
    "    with open(subject_path) as f:\n",
    "        reader = csv.reader(f, delimiter=\"\\t\")\n",
    "        subject_data = list(reader)\n",
    "\n",
    "    return subject_data\n",
    "\n",
    "def extract_data(subject_id='12', day=1): \n",
    "    \"\"\" \n",
    "    inputs: 'subject_data' = raw ascii file \n",
    "    returns: np.arrays for pupil, CS+, CS-, US, and movie_frame information \n",
    "    \n",
    "    \"\"\"\n",
    "    subject_data = load_data(subject_id, day)\n",
    "\n",
    "\n",
    "    _pupil_ = [] ; xy = []\n",
    "    cs_pos = []; cs_p = 0 # CS+\n",
    "    cs_neg = []; cs_n = 0 # CS-\n",
    "    us_sti = []; us_o = 0 # US\n",
    "\n",
    "    # movie frame data prep \n",
    "    m_frame, i_frame = [], np.nan\n",
    "\n",
    "    for i_row in range(len(subject_data)): \n",
    "\n",
    "        msg = subject_data[i_row]  \n",
    "\n",
    "        try: \n",
    "            int(subject_data[i_row][0])\n",
    "            # 3 = pupil column\n",
    "            datum = float(msg[3]) \n",
    "            _pupil_.append(datum)\n",
    "            cs_pos.append(cs_p)\n",
    "            cs_neg.append(cs_n)\n",
    "            us_sti.append(us_o)\n",
    "            m_frame.append(i_frame)\n",
    "            \n",
    "            # extract xy coordinates \n",
    "            if ' .' in msg[1] or ' .' in  msg[2]:\n",
    "                xy.append([np.nan, np.nan])\n",
    "            else: \n",
    "                xy.append([float(msg[1]), float(msg[2])])\n",
    "            \n",
    "\n",
    "        except: \n",
    "\n",
    "            if len(msg) > 1: \n",
    "                if 'CS+' in msg[1]: cs_p = 1\n",
    "                if 'CS-' in msg[1]: cs_n = 1\n",
    "                if 'US'  in msg[1]: us_o = 1\n",
    "                if 'OFF' in msg[1]: \n",
    "                    cs_p = 0\n",
    "                    cs_n = 0\n",
    "                    us_o = 0 \n",
    "\n",
    "                if msg[0] == \"MSG\": \n",
    "\n",
    "                    if \"VFRAME\" in msg[1]: \n",
    "\n",
    "                        ind = str.find(msg[1], \"VFRAME\")\n",
    "                        space = str.find(msg[1], \" 0 0 /\")\n",
    "                        i_frame = int(msg[1][ind+7:space])\n",
    "\n",
    "    return np.array(_pupil_), np.array(cs_pos), np.array(cs_neg), np.array(us_sti), np.array(m_frame), np.array(xy)\n",
    "\n",
    "\n",
    "def find_derivative(_pupil_): \n",
    "    \"\"\"determined the change in pupil size across an interval set by 'skip'\"\"\"\n",
    "\n",
    "    # initiate data structures\n",
    "    indices = []\n",
    "    skip = 5 \n",
    "    dp_dt = np.zeros(len(_pupil_))\n",
    "\n",
    "    # define blink as time when no measurements taken--super conservative\n",
    "    blink_segment = np.repeat(np.nan, len(_pupil_))\n",
    "    blink_segment[_pupil_==0] = 1 * np.mean(_pupil_)\n",
    "\n",
    "    # take interval if we're subsampling the data (to get bigger deltas)\n",
    "    sliced_segment = _pupil_[::skip]\n",
    "    index_segment = np.array(list(range(len(_pupil_)))[0::skip])\n",
    "\n",
    "    # preserve the length of the segment, even if we're subsampling\n",
    "    for ii in range(1, len(sliced_segment)): \n",
    "        dp_dt[index_segment[ii]] = sliced_segment[ii] - sliced_segment[ii-1]\n",
    "\n",
    "    return abs(dp_dt), blink_segment\n",
    "\n",
    "\n",
    "def define_blinks(_pupil_, set_thresh=500): \n",
    "    \"\"\"determine when blinks occur in timecourse\"\"\"\n",
    "\n",
    "    conv_filter_length=20\n",
    "    \n",
    "    blink = np.repeat(np.nan, len(_pupil_))\n",
    "    \n",
    "    # extract change in pupil size and a naive blink measure\n",
    "    delta, naive_blink = find_derivative(_pupil_)\n",
    "\n",
    "    # fill zero space inside derivative with arbitrary value (to sum later)\n",
    "    delta[naive_blink==naive_blink] = 1\n",
    "    \n",
    "    # another way to do this is to add the colvolution of naive and delta together -- more interpretable\n",
    "    _delta_ = np.convolve(delta,np.ones(conv_filter_length), 'same')[0:len(delta)]\n",
    "\n",
    "    # inherit naive locations\n",
    "    blink[naive_blink > 0] = 1\n",
    "\n",
    "    # inherit edges  \n",
    "    blink[_delta_ > set_thresh] = 1\n",
    "    \n",
    "    #blink[blink == blink] = 1\n",
    "    \n",
    "    return blink, _pupil_\n",
    "\n",
    "\n",
    "def find_boundaries(_blink_):\n",
    "    \n",
    "    # convert to zeros if was nan\n",
    "    if _blink_[0] != _blink_[0]: \n",
    "        _blink_[_blink_!=_blink_] = 0 \n",
    "    \n",
    "    # convolve with an edge detector \n",
    "    kernel = [1, -1]\n",
    "    edges = np.convolve(_blink_, kernel)\n",
    "    \n",
    "    # find location of onsets and offsets in the timecourse\n",
    "    onsets, offsets = np.nonzero(edges > 0 )[0], np.nonzero(edges < 0)[0]\n",
    "    \n",
    "    return onsets, offsets\n",
    "\n",
    "\n",
    "def interpolate(pupil, blinks, window_size=5, show=0, order=5): \n",
    "    \"\"\"\n",
    "    interpolate between data missing due to blinks, etc. \n",
    "    inputs: \n",
    "        \n",
    "        _pupil_ = pupil data  \n",
    "        blink = blink data\n",
    "        window_size=5\n",
    "        show= [1,0] \n",
    "\n",
    "    outputs: \n",
    "    \n",
    "        fill_blinks: len(vector of NaNs) = len(_pupil_) with interpolated data at indices of blinks     \n",
    "        edge_blinks: len(vector of NaNs) = len(_pupil_) with edges used to generate interpolation\n",
    "    \n",
    "    \"\"\"\n",
    "    # set blinks to NaNs in pupil timecourse\n",
    "    _pupil_ = np.copy(pupil)\n",
    "    _pupil_[blinks==1] = np.nan\n",
    "\n",
    "    # generate indices for pupil measurements\n",
    "    x_range = np.arange(len(_pupil_))\n",
    "    \n",
    "    # identify \"blink\" onsets and offsets\n",
    "    onsets, offsets = find_boundaries(blinks)\n",
    "\n",
    "    # generate data structure for blink fills \n",
    "    fill_blinks = np.repeat(np.nan, len(x_range))\n",
    "    edge_blinks = np.repeat(np.nan, len(x_range))\n",
    "    \n",
    "    # edge around blink to include in polynomial fit \n",
    "    window_size = window_size \n",
    "    \n",
    "    if show: plt.figure(figsize=[15,4]) \n",
    "        \n",
    "    for i_blink in range(len(offsets)): \n",
    "\n",
    "        # define n_inds to include around \"blink\"\n",
    "        fit_ons = onsets[i_blink] - window_size \n",
    "        fit_off = offsets[i_blink] + window_size\n",
    "\n",
    "        # extract interval polynomial will be fit to\n",
    "        x_short = x_range[fit_ons:fit_off]\n",
    "        y_short = _pupil_[fit_ons:fit_off]\n",
    "\n",
    "        # find polynomial fit to window around \"blink\" \n",
    "        edge_function = np.polyfit(x_short[y_short==y_short], y_short[y_short==y_short], order)\n",
    "        function_ = np.poly1d(edge_function)\n",
    "        i_fill_blink = function_(x_short)[window_size:-window_size]\n",
    "\n",
    "        fill_blinks[onsets[i_blink]:offsets[i_blink]] = i_fill_blink\n",
    "        edge_blinks[fit_ons:fit_off] = _pupil_[fit_ons:fit_off]\n",
    "\n",
    "        if show: \n",
    "\n",
    "            empty_set_ref = np.repeat(np.nan, len(x_range))\n",
    "            empty_set_ref[fit_ons:fit_off] = _pupil_[fit_ons:fit_off]\n",
    "            empty_set_inter = np.repeat(np.nan, len(x_range))\n",
    "            empty_set_inter[onsets[i_blink]:offsets[i_blink]] = i_fill_blink\n",
    "\n",
    "            plt.subplot(1,2,i_blink+1)\n",
    "            plt.plot(x_range, _pupil_, 'b', alpha=.2, linewidth=4)\n",
    "            plt.scatter(x_range[empty_set_ref==empty_set_ref],empty_set_ref[empty_set_ref==empty_set_ref], marker='o', s=20)\n",
    "\n",
    "            plt.plot(x_range, empty_set_inter, 'm', alpha=.5, linewidth=5)\n",
    "\n",
    "            plt.legend(['   \"pupil\" data', '  polynomial fit', 'edges used to \\n fit polonomial'], prop={'size': 10})\n",
    "            plt.title(\"polynomial fit to 'blink' %s\\n\"%i_blink);\n",
    "            plt.axis('off')\n",
    "\n",
    "    return fill_blinks, edge_blinks\n",
    "\n",
    "\n",
    "def filter_data(input_data, start_int=0, len_int=10000, filter_order=2, lowpass_cutoff=0.00001, highpass_cutoff=.01, show=0): \n",
    "    \n",
    "    # First, design the Buterworth filter to extract lowest frequency variation - a better mean, basically, to subtract\n",
    "    B_1, A_1= signal.butter(filter_order, lowpass_cutoff, output='ba') \n",
    "    low_freq = signal.filtfilt(B_1,A_1, input_data)\n",
    "\n",
    "    # extract the frequency range of likely motion artifacts\n",
    "    B_2, A_2 = signal.butter(filter_order, highpass_cutoff, output='ba') \n",
    "    below_high = signal.filtfilt(B_2, A_2, input_data)\n",
    "    filtered_data = below_high - low_freq\n",
    "\n",
    "    # zscore the filtered data\n",
    "    filtered_data = (filtered_data-np.mean(filtered_data))/np.std(filtered_data)\n",
    "    low_pass_filtered = (below_high-np.mean(below_high))/np.std(below_high)\n",
    "    \n",
    "    if start_int: \n",
    "        end_int = start_int + len_int\n",
    "    else: \n",
    "        start_int = 0\n",
    "        end_int = len(input_data)\n",
    "        \n",
    "\n",
    "    def slice_data(data_in,start_int, end_int): \n",
    "        return data_in[start_int:start_int+end_int]\n",
    "    \n",
    "    _filter_ = {}\n",
    "    _filter_['input_data'] = input_data = slice_data(input_data, start_int, end_int)\n",
    "    _filter_['low_freq'] = low_freq = slice_data(low_freq, start_int, end_int)\n",
    "    _filter_['below_high'] = below_high = slice_data(below_high, start_int, end_int)\n",
    "    _filter_['pupil'] = filtered_data = slice_data(filtered_data, start_int, end_int)\n",
    "    _filter_['low_pass_filt'] = low_pass_filtered = slice_data(low_pass_filtered, start_int, end_int)\n",
    "    \n",
    "\n",
    "    if show: \n",
    "        plt.figure(figsize=(20,3)); plt.axis('off'); \n",
    "        plt.plot(input_data, 'xkcd:blue',alpha=.4, linewidth=3)\n",
    "        plt.plot(low_freq, 'xkcd:red',alpha=.2,linewidth=6)\n",
    "        plt.plot(below_high,'indigo',linewidth=1,alpha=.7)\n",
    "        plt.legend(['original','low pass filter','high pass filtered'])\n",
    "        plt.title('bandpass procedure on blink corrected pupil data')\n",
    "        plt.figure(figsize=(20,3)); plt.axis('off'); \n",
    "        plt.ylim([min(filtered_data)-.25,max(filtered_data)+.25]); \n",
    "        plt.xlim([0,len(filtered_data)])  \n",
    "        plt.plot(filtered_data,'indigo',linewidth=3,alpha=.7,color='xkcd:blue')\n",
    "        plt.title('\\noutput: bandpass filtered data')\n",
    "    \n",
    "    return _filter_\n"
   ]
  },
  {
   "cell_type": "code",
   "execution_count": 5,
   "metadata": {
    "collapsed": true
   },
   "outputs": [],
   "source": [
    "def nice_lines(data, name, color='m', heavy=[.6, 2], light=[.1, 12]): \n",
    "    \n",
    "    plt.plot(data, color, alpha=heavy[0], linewidth=heavy[1], label=name)    \n",
    "    plt.plot(data, color, alpha=light[0], linewidth=light[1])\n",
    "    "
   ]
  },
  {
   "cell_type": "code",
   "execution_count": 6,
   "metadata": {
    "collapsed": true
   },
   "outputs": [],
   "source": [
    "# not using these at this point, but incorporate it soon\n",
    "\n",
    "def set_params(): \n",
    "    \n",
    "    params = {}\n",
    "    \n",
    "    # load params\n",
    "    params['subject_id'] = '12'\n",
    "    params['day'] = 1\n",
    "    \n",
    "    # definition of blink params\n",
    "    params['blink_thresh'] = 1000\n",
    "    params['conv_filter_length'] = 20\n",
    "    params['window_size'] = 4 \n",
    "    \n",
    "    # interpolation params\n",
    "    params['order'] = 1\n",
    "    \n",
    "    # band pass filter params\n",
    "    params['lowpass_cutoff'] = 0.00001\n",
    "    params['highpass_cutoff'] =.01\n",
    "    \n",
    "    return params"
   ]
  },
  {
   "cell_type": "code",
   "execution_count": 7,
   "metadata": {
    "collapsed": false
   },
   "outputs": [],
   "source": [
    "def preprocess_pupil_data(subject_id='12', day=1): \n",
    "    \n",
    "    e = {'params': set_params()}\n",
    "\n",
    "    e['raw'], e['CS+'], e['CS-'], e['US'], e['mov'], e['xy'] = extract_data(subject_id, day)\n",
    "\n",
    "    # define blink times\n",
    "    e['blinks'], e['pupil'] = define_blinks(e['raw'], set_thresh=e['params']['blink_thresh'])\n",
    "\n",
    "    # extract onsets and offsets\n",
    "    e['onsets'], e['offsets'] = find_boundaries(e['blinks'])\n",
    "\n",
    "    # interpolate betwen blinks -- edges are just for visualization\n",
    "    interpolation, edges = interpolate(e['raw'], e['blinks'], window_size=20, order=e['params']['order'])\n",
    "\n",
    "    # fill gaps \n",
    "    e['pupil'][interpolation == interpolation] = interpolation[interpolation == interpolation]\n",
    "\n",
    "    # bandpass filter\n",
    "    e['filtered'] = filter_data(e['pupil'], lowpass_cutoff=0.0003)\n",
    "\n",
    "    # deal with annoying overwrite\n",
    "    e['raw'] = extract_data()[0]\n",
    "    \n",
    "    return e, edges, interpolation"
   ]
  },
  {
   "cell_type": "code",
   "execution_count": null,
   "metadata": {
    "collapsed": false
   },
   "outputs": [],
   "source": [
    "e, edges, interpolation = preprocess_pupil_data();  print('data: ', list(e.keys()))"
   ]
  },
  {
   "cell_type": "code",
   "execution_count": null,
   "metadata": {
    "collapsed": false
   },
   "outputs": [],
   "source": [
    "# for ease plotting\n",
    "x_range = np.arange(0, len(e['pupil']))\n",
    "\n",
    "start, end = 1000, 15000\n",
    "# FIGURE ONE: plot original data (without the blink)\n",
    "plt.figure(figsize=(20,3)); plt.axis('off'); \n",
    "plt.plot(x_range, e['raw'], 'b', alpha=.2, linewidth=4)\n",
    "# plot the edges used to generate interpolation\n",
    "plt.scatter(x_range[edges==edges],edges[edges==edges], marker=(5, 0), s=20)\n",
    "# plot interpolation between edges\n",
    "plt.plot(x_range, interpolation, 'm', alpha=.5, linewidth=5)\n",
    "# aesthetics \n",
    "plt.legend(['   \"pupil\" data', '  polynomial fit', '  edges used to \\n  fit polonomial'], prop={'size': 10}, loc=1)\n",
    "plt.title(\"polynomial fit (order = %s) to 'blinks'\\n\"%e['params']['order']);\n",
    "plt.xlim([start,end])\n",
    "\n",
    "# FIGURE TWO: blink corrected timecourse\n",
    "plt.figure(figsize=(20,3)); plt.axis('off'); \n",
    "nice_lines(e['pupil'], color='b', name='') \n",
    "plt.title('blink-corrected pupil timecourse')\n",
    "plt.xlim([start,end])\n",
    "\n",
    "# prep for FIGURE THREE: band pass filtering\n",
    "_low_ = np.array(e['filtered']['low_freq'])\n",
    "_high_ = np.array(e['filtered']['below_high'])\n",
    "_filt_ = np.array(e['filtered']['pupil'])\n",
    "\n",
    "# FIGURE THREE: band pass filtering\n",
    "plt.figure(figsize=(20,3)); plt.axis('off'); \n",
    "plt.plot(e['pupil'], 'xkcd:blue',alpha=.4, linewidth=3)\n",
    "plt.plot(_low_, 'xkcd:red',alpha=.2,linewidth=6)\n",
    "plt.plot(_high_,'indigo',linewidth=1,alpha=.7)\n",
    "plt.legend(['original','low pass filter','high pass filtered'])\n",
    "plt.title('bandpass procedure on blink corrected pupil data')\n",
    "plt.xlim([start,end])\n",
    "\n",
    "# FIGURE FOUR: final pupil timecourse \n",
    "plt.figure(figsize=(20,3)); plt.axis('off'); \n",
    "plt.ylim([min(_filt_)-.25,max(_filt_)+.25]); \n",
    "#plt.xlim([0,len(_filt_)])  \n",
    "plt.plot(_filt_,'indigo',linewidth=2,alpha=.5,color='xkcd:blue')\n",
    "plt.title('\\nfinal output: bandpass filtered blink corrected data'); \n",
    "plt.xlim([start,end]); "
   ]
  },
  {
   "cell_type": "markdown",
   "metadata": {},
   "source": [
    "> longer intervals aren't blinks. it would be interesting to see if the mean fluctions are driven by luminance--i.e. gaze shifting to the (white) screen. also, building in regressors for relative luminance might be interesting + easy. \n",
    "\n",
    "> that is, using RGB values determined by the gaze position with  \n",
    "\n",
    "> $$Y=0.2126R+0.7152G+0.0722B$$\n",
    "\n",
    "> "
   ]
  },
  {
   "cell_type": "code",
   "execution_count": 10,
   "metadata": {
    "collapsed": true
   },
   "outputs": [],
   "source": [
    "def for_show(inputs):\n",
    "    \n",
    "    inputs = np.array(inputs)\n",
    "    tmp_ = np.repeat(np.nan, len(inputs))\n",
    "    tmp_[inputs != 0] = 1  \n",
    "    \n",
    "    return tmp_"
   ]
  },
  {
   "cell_type": "code",
   "execution_count": null,
   "metadata": {
    "collapsed": false
   },
   "outputs": [],
   "source": [
    "start, end = 2000, 50000\n",
    "\n",
    "plt.figure(figsize=(20,3)); plt.axis('off')\n",
    "plt.plot(e['raw'][start:end], 'xkcd:blue',alpha=.4, linewidth=3)\n",
    "plt.title('raw pupil data')\n",
    "\n",
    "plt.figure(figsize=(20,3)); plt.axis('off')\n",
    "plt.plot(e['pupil'][start:end], 'xkcd:blue',alpha=.4, linewidth=3)\n",
    "plt.plot(_low_[start:end], 'xkcd:red',alpha=.2,linewidth=6)\n",
    "plt.plot(_high_[start:end],'indigo',linewidth=1,alpha=.7)\n",
    "plt.legend(['original','low pass filter','high pass filtered'])\n",
    "plt.title('bandpass procedure on blink corrected pupil data')\n",
    "\n",
    "plt.figure(figsize=[20,4]) ; plt.axis('off'); \n",
    "nice_lines(e['filtered']['pupil'][start:end],color='b', name='pupil', heavy=[.2, 1], light=[.1, 10])\n",
    "nice_lines(for_show(e['blinks'][start:end]),color='k-', name='blink', heavy=[1, 5])\n",
    "plt.title('band pass filtered pupil data + stimuli and blinks'); plt.legend(loc = 4); "
   ]
  },
  {
   "cell_type": "code",
   "execution_count": null,
   "metadata": {
    "collapsed": false
   },
   "outputs": [],
   "source": [
    "plt.figure(figsize=[20,4]) ; plt.axis('off'); \n",
    "nice_lines(e['filtered']['pupil'][start:end],color='b', name='pupil', heavy=[.2, 1], light=[.1, 10])\n",
    "nice_lines(for_show(e['CS+'][start:end]),color='r', name='CS+', heavy=[.4, 2])\n",
    "nice_lines(for_show(e['CS-'][start:end]),color='xkcd:blue', name='CS-', heavy=[.4, 2])\n",
    "nice_lines(for_show(e['US'][start:end]), color='r', name='US', heavy=[.5, 8])\n",
    "nice_lines(for_show(e['blinks'][start:end]),color='k-', name='blink', heavy=[1, 5])\n",
    "plt.legend(prop={'size': 11}, loc=3)\n",
    "plt.ylim([-8,8]); "
   ]
  },
  {
   "cell_type": "code",
   "execution_count": null,
   "metadata": {
    "collapsed": false
   },
   "outputs": [],
   "source": [
    "start, end = 0, 13000\n",
    "\n",
    "fps = round(len(np.nonzero(e['CS+'][start:end])[0])/4)\n",
    "length_s = len(e['pupil']) / fps\n",
    "x_range = np.arange(0, length_s, 1/(fps))\n",
    "\n",
    "print(\"but it's %s frames per second  ... whaaaat the fuck?\"%fps)"
   ]
  },
  {
   "cell_type": "code",
   "execution_count": 8,
   "metadata": {
    "collapsed": false
   },
   "outputs": [
    {
     "name": "stdout",
     "output_type": "stream",
     "text": [
      "data:  ['params', 'raw', 'CS+', 'CS-', 'US', 'mov', 'xy', 'blinks', 'pupil', 'onsets', 'offsets', 'filtered']\n"
     ]
    }
   ],
   "source": [
    "e, edges, interpolation = preprocess_pupil_data('05', day=2);  print('data: ', list(e.keys()))"
   ]
  },
  {
   "cell_type": "code",
   "execution_count": 11,
   "metadata": {
    "collapsed": false
   },
   "outputs": [
    {
     "data": {
      "image/png": "[encoded data removed]",
      "text/plain": [
       "<matplotlib.figure.Figure at 0x1c1ce7d048>"
      ]
     },
     "metadata": {},
     "output_type": "display_data"
    }
   ],
   "source": [
    "start, end = 0, -1\n",
    "\n",
    "plt.figure(figsize=[20,4]) ; plt.axis('off'); \n",
    "\n",
    "nice_lines(e['filtered']['low_pass_filt'][start:end]+5,color='b', name='pupil', heavy=[.2, 1], light=[.1, 10])\n",
    "nice_lines(for_show(e['CS+'][start:end]),color='r', name='CS+', heavy=[.4, 2])\n",
    "nice_lines(for_show(e['CS-'][start:end]),color='xkcd:blue', name='CS-', heavy=[.4, 2])\n",
    "nice_lines(for_show(e['US'][start:end]), color='r', name='US', heavy=[.5, 8])\n",
    "nice_lines(for_show(e['blinks'][start:end]),color='k-', name='blink', heavy=[1, 5])\n",
    "\n",
    "plt.legend(prop={'size': 11}, loc=3)\n",
    "plt.ylim([-10,10]); "
   ]
  },
  {
   "cell_type": "code",
   "execution_count": 12,
   "metadata": {
    "collapsed": false
   },
   "outputs": [
    {
     "data": {
      "text/plain": [
       "[<matplotlib.lines.Line2D at 0x1c0cda3f28>]"
      ]
     },
     "execution_count": 12,
     "metadata": {},
     "output_type": "execute_result"
    },
    {
     "data": {
      "image/png": "[encoded data removed]",
      "text/plain": [
       "<matplotlib.figure.Figure at 0x1c1ce5e780>"
      ]
     },
     "metadata": {},
     "output_type": "display_data"
    }
   ],
   "source": [
    "plt.figure(figsize=[20,4]) ; plt.axis('off'); \n",
    "plt.plot(e['raw'])"
   ]
  },
  {
   "cell_type": "code",
   "execution_count": null,
   "metadata": {
    "collapsed": true
   },
   "outputs": [],
   "source": [
    "[\"n03223299_17531.JPEG\",\"n03223299_7692.JPEG\",\"n03223299_5702.JPEG\",\"n03223299_8603.JPEG\",\"n03223299_2994.JPEG\"]\n",
    "[\"n03223299_6337.JPEG\",\"n03223299_5702.JPEG\",\"n03223299_17531.JPEG\",\"n03223299_6897.JPEG\",\"n03223299_4481.JPEG\"]\n",
    "\n",
    "\"n03223299_17531.JPEG\", \n",
    "\"n03223299_17531.JPEG\"\n",
    "\"n03223299_5702.JPEG\", \n",
    "\"n03223299_5702.JPEG\""
   ]
  }
 ],
 "metadata": {
  "kernelspec": {
   "display_name": "Python 3",
   "language": "python",
   "name": "python3"
  },
  "language_info": {
   "codemirror_mode": {
    "name": "ipython",
    "version": 3
   },
   "file_extension": ".py",
   "mimetype": "text/x-python",
   "name": "python",
   "nbconvert_exporter": "python",
   "pygments_lexer": "ipython3",
   "version": "3.6.0"
  }
 },
 "nbformat": 4,
 "nbformat_minor": 2
}
