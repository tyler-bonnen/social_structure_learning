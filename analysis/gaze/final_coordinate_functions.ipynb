{
 "cells": [
  {
   "cell_type": "code",
   "execution_count": 14,
   "metadata": {
    "collapsed": true
   },
   "outputs": [],
   "source": [
    "import matplotlib.pylab as plt"
   ]
  },
  {
   "cell_type": "code",
   "execution_count": 15,
   "metadata": {
    "collapsed": true
   },
   "outputs": [],
   "source": [
    "% matplotlib inline"
   ]
  },
  {
   "cell_type": "code",
   "execution_count": 18,
   "metadata": {
    "collapsed": true
   },
   "outputs": [],
   "source": [
    "import numpy as np "
   ]
  },
  {
   "cell_type": "code",
   "execution_count": 19,
   "metadata": {
    "collapsed": true
   },
   "outputs": [],
   "source": [
    "from PIL import Image"
   ]
  },
  {
   "cell_type": "code",
   "execution_count": 20,
   "metadata": {
    "collapsed": false
   },
   "outputs": [],
   "source": [
    "model_image_ = Image.open('model_image.png')\n",
    "x_range, y_range = 1920, 1080\n",
    "model_image = model_image_.resize((x_range, y_range), Image.ANTIALIAS)"
   ]
  },
  {
   "cell_type": "code",
   "execution_count": 21,
   "metadata": {
    "collapsed": false
   },
   "outputs": [],
   "source": [
    "import eyelink_functions"
   ]
  },
  {
   "cell_type": "code",
   "execution_count": 22,
   "metadata": {
    "collapsed": false
   },
   "outputs": [
    {
     "name": "stdout",
     "output_type": "stream",
     "text": [
      "{'0': {'face': 6.0, 'square': 67.0, 'hand': 8.0}}\n",
      "{'1': {'face': 35.0, 'square': 18.0, 'hand': 23.0}}\n",
      "{'2': {'face': 94.0, 'square': 0.0, 'hand': 2.0}}\n",
      "{'3': {'face': 66.0, 'square': 20.0, 'hand': 9.0}}\n",
      "{'4': {'face': 38.0, 'square': 7.0, 'hand': 15.0}}\n",
      "{'5': {'face': 43.0, 'square': 39.0, 'hand': 11.0}}\n",
      "{'6': {'face': 84.0, 'square': 7.0, 'hand': 5.0}}\n",
      "{'7': {'face': 37.0, 'square': 43.0, 'hand': 11.0}}\n",
      "{'8': {'face': 14.0, 'square': 25.0, 'hand': 51.0}}\n",
      "{'9': {'face': 35.0, 'square': 18.0, 'hand': 23.0}}\n",
      "{'10': {'face': 31.0, 'square': 41.0, 'hand': 20.0}}\n",
      "{'11': {'face': 67.0, 'square': 11.0, 'hand': 3.0}}\n",
      "{'12': {'face': 65.0, 'square': 9.0, 'hand': 11.0}}\n",
      "{'13': {'face': 16.0, 'square': 12.0, 'hand': 40.0}}\n",
      "{'14': {'face': 68.0, 'square': 10.0, 'hand': 14.0}}\n",
      "dont have subject 15\n",
      "{'16': {'face': 39.0, 'square': 22.0, 'hand': 23.0}}\n",
      "{'17': {'face': 61.0, 'square': 9.0, 'hand': 7.0}}\n",
      "{'18': {'face': 37.0, 'square': 29.0, 'hand': 19.0}}\n",
      "{'19': {'face': 81.0, 'square': 2.0, 'hand': 9.0}}\n",
      "{'20': {'face': 6.0, 'square': 67.0, 'hand': 8.0}}\n",
      "{'21': {'face': 71.0, 'square': 14.0, 'hand': 10.0}}\n",
      "{'22': {'face': 57.0, 'square': 11.0, 'hand': 11.0}}\n",
      "{'23': {'face': 66.0, 'square': 20.0, 'hand': 9.0}}\n",
      "{'24': {'face': 38.0, 'square': 7.0, 'hand': 15.0}}\n",
      "{'25': {'face': 43.0, 'square': 39.0, 'hand': 11.0}}\n",
      "{'26': {'face': 84.0, 'square': 7.0, 'hand': 5.0}}\n",
      "{'27': {'face': 37.0, 'square': 43.0, 'hand': 11.0}}\n",
      "{'28': {'face': 29.0, 'square': 37.0, 'hand': 13.0}}\n",
      "{'29': {'face': 94.0, 'square': 0.0, 'hand': 2.0}}\n",
      "dont have subject 30\n",
      "dont have subject 31\n",
      "dont have subject 32\n"
     ]
    }
   ],
   "source": [
    "subjects = [str(ii) for ii in range(0,33)]\n",
    "\n",
    "for subject in subjects: \n",
    "    \n",
    "    try: \n",
    "        roi_data = eyelink_functions.roi_percent_analysis([subject]); print(roi_data)\n",
    "    except: \n",
    "        print('dont have subject %s'%subject)"
   ]
  },
  {
   "cell_type": "code",
   "execution_count": null,
   "metadata": {
    "collapsed": false
   },
   "outputs": [],
   "source": []
  },
  {
   "cell_type": "code",
   "execution_count": null,
   "metadata": {
    "collapsed": true
   },
   "outputs": [],
   "source": []
  },
  {
   "cell_type": "code",
   "execution_count": null,
   "metadata": {
    "collapsed": true
   },
   "outputs": [],
   "source": []
  }
 ],
 "metadata": {
  "kernelspec": {
   "display_name": "Python 2",
   "language": "python",
   "name": "python2"
  },
  "language_info": {
   "codemirror_mode": {
    "name": "ipython",
    "version": 2
   },
   "file_extension": ".py",
   "mimetype": "text/x-python",
   "name": "python",
   "nbconvert_exporter": "python",
   "pygments_lexer": "ipython2",
   "version": "2.7.13"
  }
 },
 "nbformat": 4,
 "nbformat_minor": 2
}
