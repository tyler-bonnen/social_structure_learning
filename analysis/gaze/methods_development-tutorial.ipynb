{
 "cells": [
  {
   "cell_type": "markdown",
   "metadata": {},
   "source": [
    "> fist, let's import a module to load data from 'gaze_data/'"
   ]
  },
  {
   "cell_type": "code",
   "execution_count": null,
   "metadata": {
    "collapsed": false
   },
   "outputs": [],
   "source": [
    "import os "
   ]
  },
  {
   "cell_type": "markdown",
   "metadata": {},
   "source": [
    "> let's set the path, populate a list with contents from our data folder, and data that matches some criteria. in this case 'd1.asc' are those day 1 files that have been converted to asc format. "
   ]
  },
  {
   "cell_type": "code",
   "execution_count": null,
   "metadata": {
    "collapsed": true
   },
   "outputs": [],
   "source": [
    "data_path = '../../collection/gaze_data/'\n",
    "folder_contents = os.listdir(data_path)\n",
    "\n",
    "data_file_names = []\n",
    "for file in folder_contents: \n",
    "    if 'd1.asc' in file: \n",
    "        data_file_names.append(file)"
   ]
  },
  {
   "cell_type": "code",
   "execution_count": null,
   "metadata": {
    "collapsed": false
   },
   "outputs": [],
   "source": [
    "data_file_names"
   ]
  },
  {
   "cell_type": "markdown",
   "metadata": {},
   "source": [
    "> now let's set up to grab one subject of interest. s12 just to be consistent with what we've been looking at previously. "
   ]
  },
  {
   "cell_type": "code",
   "execution_count": null,
   "metadata": {
    "collapsed": false
   },
   "outputs": [],
   "source": [
    "subject_path = data_path + data_file_names[11]\n",
    "print(\"path to single subject data: '%s'\"%subject_path) "
   ]
  },
  {
   "cell_type": "markdown",
   "metadata": {},
   "source": [
    "> now lets load the actual data--and we're going to need to load another module to do that"
   ]
  },
  {
   "cell_type": "code",
   "execution_count": null,
   "metadata": {
    "collapsed": false
   },
   "outputs": [],
   "source": [
    "import csv\n",
    "with open(subject_path) as f:\n",
    "    reader = csv.reader(f, delimiter=\"\\t\")\n",
    "    subject_data = list(reader)"
   ]
  },
  {
   "cell_type": "markdown",
   "metadata": {},
   "source": [
    "> a simple way to check if it's data is to check if it's not a message--that is, to check if it's not a string. the first column is really the indicator here. for example: "
   ]
  },
  {
   "cell_type": "code",
   "execution_count": null,
   "metadata": {
    "collapsed": false
   },
   "outputs": [],
   "source": [
    "view_row = 1005\n",
    "subject_data[view_row:view_row+10]"
   ]
  },
  {
   "cell_type": "markdown",
   "metadata": {},
   "source": [
    "> where every 'EFIX' and 'SSAC' are examples of columns we want to ignore, and everything starting with a number we want to look at. \n",
    "\n",
    "> this is tricky because everything here's formatted as a string, but we can try to convert it to an integer, and if it fails we know it's definitely a string, as opposed to a number that's formatted as a string.\n",
    "\n",
    "> the simplest, stupidest way to deal with this is to try to convert the first column in each row to a string, which will error out sometimes--but we can catch those errors. for example: "
   ]
  },
  {
   "cell_type": "code",
   "execution_count": null,
   "metadata": {
    "collapsed": false
   },
   "outputs": [],
   "source": [
    "column = 0 \n",
    "for convert_row in range(view_row, view_row+10): \n",
    "    print('trying to convert: %s  to an integer'%subject_data[convert_row][column], end=\" ... \") \n",
    "    int(subject_data[convert_row][0])\n",
    "    print('done')"
   ]
  },
  {
   "cell_type": "markdown",
   "metadata": {},
   "source": [
    "> we can deal with this by using 'try', and then catching our errors with 'except', for example"
   ]
  },
  {
   "cell_type": "code",
   "execution_count": null,
   "metadata": {
    "collapsed": false
   },
   "outputs": [],
   "source": [
    "for convert_row in range(view_row, view_row+10): \n",
    "    print('trying to convert: %s  to an integer'%subject_data[convert_row][column], end=\" ... \")\n",
    "    try: \n",
    "        int(subject_data[convert_row][0])\n",
    "        print('done')\n",
    "    except: \n",
    "        print('couldnt convert to string')\n",
    "    "
   ]
  },
  {
   "cell_type": "markdown",
   "metadata": {},
   "source": [
    "> first let's get the locations of all the data by try-ing to convert the first column, and if that works we'll save that index to a list of zeros so that the location of each '1' corresponds to the location in 'subject_data' that has data we're interested in "
   ]
  },
  {
   "cell_type": "code",
   "execution_count": null,
   "metadata": {
    "collapsed": true
   },
   "outputs": [],
   "source": [
    "import numpy as np "
   ]
  },
  {
   "cell_type": "code",
   "execution_count": null,
   "metadata": {
    "collapsed": false
   },
   "outputs": [],
   "source": [
    "def extract_pupil_data(subject_data): \n",
    "    \n",
    "    pupil_data = []\n",
    "    pupil_column = 3 \n",
    "    blink_nan = 0 \n",
    "\n",
    "    for i_row in range(len(subject_data)): \n",
    "        try: \n",
    "            # first, error out if it's not data\n",
    "            int(subject_data[i_row][0])\n",
    "            # \n",
    "            i_pupil = subject_data[i_row][pupil_column]\n",
    "            # \n",
    "            if blink_nan: \n",
    "                if float(i_pupil) == 0: \n",
    "                    pupil_data.append(np.nan)\n",
    "                else:\n",
    "                    pupil_data.append(float(i_pupil))\n",
    "            else:      \n",
    "                pupil_data.append(float(i_pupil))\n",
    "        except: \n",
    "            pass \n",
    "\n",
    "    return np.array(pupil_data)"
   ]
  },
  {
   "cell_type": "code",
   "execution_count": null,
   "metadata": {
    "collapsed": false
   },
   "outputs": [],
   "source": [
    "pupil_data = extract_pupil_data(subject_data)"
   ]
  },
  {
   "cell_type": "code",
   "execution_count": null,
   "metadata": {
    "collapsed": true
   },
   "outputs": [],
   "source": [
    "import matplotlib.pylab as plt\n",
    "% matplotlib inline "
   ]
  },
  {
   "cell_type": "code",
   "execution_count": null,
   "metadata": {
    "collapsed": false
   },
   "outputs": [],
   "source": [
    "plt.figure(figsize=[20,12])\n",
    "plt.subplot(2,1,1)\n",
    "plt.plot(pupil_data)\n",
    "plt.title('whole timecourse\\nits currupted with something to the point it seems unusable...\\n', fontsize=20)\n",
    "plt.subplot(2,1,2)\n",
    "plt.plot(pupil_data[5000:6000]); \n",
    "plt.title('\\nmore interpretable segment of the data\\n', fontsize=15)"
   ]
  },
  {
   "cell_type": "markdown",
   "metadata": {},
   "source": [
    "> they're eyeblinks :) which is pretty incredible. naively we might preprocess the data like we do with skin conductance data--that is, high and low pass filter the data to remove noise, e.g. [Bach et al. 2010](https://www.ncbi.nlm.nih.gov/pmc/articles/PMC2877881/). let's use a function from experiment 1 and look at the data again"
   ]
  },
  {
   "cell_type": "code",
   "execution_count": null,
   "metadata": {
    "collapsed": true
   },
   "outputs": [],
   "source": [
    "import scipy.signal as signal"
   ]
  },
  {
   "cell_type": "code",
   "execution_count": null,
   "metadata": {
    "collapsed": false
   },
   "outputs": [],
   "source": [
    "def filter_data(input_data, start_int=0, len_int=10000): \n",
    "    \n",
    "    filter_order = 2 \n",
    "    lowpass_cutoff = 0.0001\n",
    "    highpass_cutoff = .005\n",
    "    \n",
    "    # First, design the Buterworth filter to extract lowest frequency variation - a better mean, basically, to subtract\n",
    "    B_1, A_1= signal.butter(filter_order, lowpass_cutoff, output='ba') \n",
    "    low_freq = signal.filtfilt(B_1,A_1, input_data)\n",
    "\n",
    "    # extract the frequency range of likely motion artifacts\n",
    "    B_2, A_2 = signal.butter(filter_order, highpass_cutoff, output='ba') \n",
    "    below_high = signal.filtfilt(B_2, A_2, input_data)\n",
    "    filtered_data = below_high - low_freq\n",
    "\n",
    "    # zscore the filtered data\n",
    "    filtered_data = (filtered_data-np.mean(filtered_data))/np.std(filtered_data)\n",
    "    \n",
    "    if start_int: \n",
    "        end_int = start_int + len_int\n",
    "    else: \n",
    "        start_int = 0\n",
    "        end_int = len(input_data)\n",
    "        \n",
    "\n",
    "    def slice_data(data_in,start_int, end_int): \n",
    "        return data_in[start_int:start_int+end_int]\n",
    "        \n",
    "        \n",
    "    \n",
    "    input_data = slice_data(input_data, start_int, end_int)\n",
    "    low_freq = slice_data(low_freq, start_int, end_int)\n",
    "    below_high = slice_data(below_high, start_int, end_int)\n",
    "    filtered_data = slice_data(filtered_data, start_int, end_int)\n",
    "\n",
    "    plt.figure(figsize=(20,5))\n",
    "    plt.plot(input_data, 'xkcd:blue',alpha=.4, linewidth=2)\n",
    "    plt.plot(low_freq, 'r-',alpha=.3,linewidth=5)\n",
    "    plt.plot(below_high,'indigo',linewidth=3,alpha=.7)\n",
    "    plt.legend(['Original','low pass filtered','high pass filtered'])\n",
    "    plt.figure(figsize=(20,3))\n",
    "    plt.ylim([min(filtered_data)-.25,max(filtered_data)+.25]); \n",
    "    plt.xlim([0,len(filtered_data)])  \n",
    "    plt.plot(filtered_data,'indigo',linewidth=3,alpha=.7,color='xkcd:blue')\n",
    "    plt.legend(['bandpass filtered data'])\n"
   ]
  },
  {
   "cell_type": "code",
   "execution_count": null,
   "metadata": {
    "collapsed": false
   },
   "outputs": [],
   "source": [
    "filter_data(pupil_data)"
   ]
  },
  {
   "cell_type": "markdown",
   "metadata": {},
   "source": [
    "> this still seems awfully noisy ... let's look more closely "
   ]
  },
  {
   "cell_type": "code",
   "execution_count": null,
   "metadata": {
    "collapsed": false
   },
   "outputs": [],
   "source": [
    "filter_data(pupil_data, start_int=1000, len_int=1000)"
   ]
  },
  {
   "cell_type": "markdown",
   "metadata": {},
   "source": [
    "> when people blink the instrument records a zero, and these zeros introduce more variance in the timecourse than is naturally present. if we were to set the 0 = NaN we couldn't use the bandpass filter here ... other options? for the moment just skip reading through the function, pick some interval to look at, and look at the outputs"
   ]
  },
  {
   "cell_type": "code",
   "execution_count": null,
   "metadata": {
    "collapsed": false
   },
   "outputs": [],
   "source": [
    "def dpupil_dtime(i_segment, interval=1): \n",
    "\n",
    "    # initiate data structures\n",
    "    indices = []\n",
    "    dp_dt = np.zeros(len(i_segment))\n",
    "    \n",
    "    # define blink as time when no measurements taken--super conservative\n",
    "    blink_segment = np.repeat(np.nan, len(i_segment))\n",
    "    blink_segment[i_segment==0] = 1 * np.mean(i_segment)\n",
    "    \n",
    "    # take interval if we're subsampling the data (to get bigger deltas)\n",
    "    sliced_segment = i_segment[::interval]\n",
    "    index_segment = np.array(list(range(len(i_segment)))[0::interval])\n",
    "    \n",
    "    # preserve the length of the segment, even if we're subsampling\n",
    "    for ii in range(1, len(sliced_segment)): \n",
    "        dp_dt[index_segment[ii]] = sliced_segment[ii] - sliced_segment[ii-1]\n",
    "\n",
    "    return abs(dp_dt), blink_segment\n",
    "\n",
    "def show_blink_generation(pupil_data, skip=5, start_ind=0, ind_length=1000, set_thresh = 200, description=0): \n",
    "    \n",
    "    conv_filter_length = 20 \n",
    "    \n",
    "    # segment the data into an interval--for troublshooting\n",
    "    segment = pupil_data[start_ind:start_ind+ind_length]\n",
    "    # extract change in pupil size and a naive blink measure\n",
    "    delta, naive_blink = dpupil_dtime(segment, interval=skip)\n",
    "    \n",
    "    plt.figure(figsize=[20,4])\n",
    "    plt.plot(segment, 'b-', alpha=.1, linewidth=5)\n",
    "    plt.plot(segment, 'b-', alpha=.6, linewidth=1)\n",
    "    plt.legend(['pupil diameter'])\n",
    "    if description: plt.title('\\n if were looking for \"blinks\" in our data...\\n', fontsize=15)\n",
    "    \n",
    "    plt.figure(figsize=[20,4])\n",
    "    plt.plot(delta, 'r-', alpha=.5)\n",
    "    plt.plot(naive_blink, 'm-', linewidth=5, alpha=.5)\n",
    "    plt.legend(['dp_dt', 'naive_blink'])\n",
    "    if description: plt.title('first we calculate the change in pupil size over time (dPupil_dTime) \\n' + \n",
    "              ' and the intervale of naive_blink, when peoples eyes are completely closed ...\\n', fontsize=15)\n",
    "    \n",
    "    # convolve, etc.\n",
    "    delta[naive_blink==naive_blink] = 1000\n",
    "    wide_delta = np.convolve(delta,np.ones(conv_filter_length), 'same')[0:len(delta)]\n",
    "    blink = np.repeat(np.nan, len(segment))\n",
    "    blink[wide_delta > set_thresh] = np.mean(segment) + 2000\n",
    "    blink[naive_blink > 0] = np.mean(segment) + 2000\n",
    "    \n",
    "    \n",
    "    plt.figure(figsize=[20,4])\n",
    "    plt.plot(np.convolve(delta,np.ones(conv_filter_length)), 'm-', alpha=.1, linewidth=8)\n",
    "    plt.plot(np.convolve(delta,np.ones(conv_filter_length)), 'm-', alpha=.6, linewidth=2)\n",
    "    plt.plot(range(len(delta)), np.repeat(set_thresh, len(delta)), '--', linewidth=5, alpha=.4)\n",
    "    plt.legend(['convolve(naive_blink + delta_pupil)', 'threshhold'])\n",
    "    if description: plt.title('add naive_time + dpupil_dtime, convolve them' +   \n",
    "              'and then set a \"reasonable\" (a.k.a. arbitrary) threshhold of what counts as a blink ... \\n', fontsize=15)\n",
    "    \n",
    "    plt.figure(figsize=[20,4])\n",
    "    plt.plot(blink, 'k-', alpha=.6, linewidth=4)    \n",
    "    plt.plot(segment, 'b-', alpha=.1, linewidth=5)\n",
    "    plt.legend(['pupil diameter', '\"blink\"'])\n",
    "    plt.plot(segment, 'b-', alpha=.6, linewidth=1)\n",
    "    if description: plt.title('and now we can figure out what to do with the \"blinks\" in our data\\n', fontsize=15)"
   ]
  },
  {
   "cell_type": "code",
   "execution_count": null,
   "metadata": {
    "collapsed": false,
    "scrolled": false
   },
   "outputs": [],
   "source": [
    "show_blink_generation(pupil_data, description=1)"
   ]
  },
  {
   "cell_type": "markdown",
   "metadata": {},
   "source": [
    "> \n",
    "if youd like you can experiment with the data a bit by changing these parameters\n",
    "> \n",
    "```\n",
    "            skip, start_ind, ind_length, set_thresh\n",
    "```\n",
    "- skip: the sampling interval to calculate the change in pupil size\n",
    "- start_ind: where to begin looking at the timecourse\n",
    "- ind_length: how long of a timecourse to look at\n",
    "- set_thresh: the arbitrary threshhold we use to determine what counts as a \"blink\" \n",
    "- these are the default parameters\n",
    "```\n",
    "skip=5, start_ind=0, ind_length=1000, set_thresh = 200\n",
    "```"
   ]
  },
  {
   "cell_type": "code",
   "execution_count": null,
   "metadata": {
    "collapsed": false
   },
   "outputs": [],
   "source": [
    "# set variables if you'd like\n",
    "start_ind = 200000\n",
    "ind_length = 3000\n",
    "set_thresh = 500\n",
    "skip = 2\n",
    "\n",
    "show_blink_generation(pupil_data, skip, start_ind, ind_length, set_thresh)"
   ]
  },
  {
   "cell_type": "markdown",
   "metadata": {},
   "source": [
    "> ideally, we'd be able to salvage the data, even though it's blotted out by the blinks. a \"reasonable\" assumption is that pupil diameter would have changed smoothly between before and after the blink occured. so we might be able to just remove the blink and make a smooth line connecting the pupil diameter from before to after it occured\n",
    "\n",
    "\n",
    "> let's clean up the function above, and make sure it can return what we need so we can just use to for the next step"
   ]
  },
  {
   "cell_type": "code",
   "execution_count": null,
   "metadata": {
    "collapsed": true
   },
   "outputs": [],
   "source": [
    "def find_blinks(pupil_data, skip=5, conv_filter_length=20, set_thresh = 200, description=0): \n",
    "    \n",
    "    # segment the data into an interval--for troublshooting\n",
    "    segment = pupil_data\n",
    "    # extract change in pupil size and a naive blink measure\n",
    "    delta, naive_blink = dpupil_dtime(segment, interval=skip)\n",
    " \n",
    "    # convolve, etc.\n",
    "    delta[naive_blink==naive_blink] = 1000\n",
    "    wide_delta = np.convolve(delta,np.ones(conv_filter_length), 'same')[0:len(delta)]\n",
    "    blink = np.repeat(np.nan, len(segment))\n",
    "    blink[wide_delta > set_thresh] = np.mean(segment) + 2000\n",
    "    blink[naive_blink > 0] = np.mean(segment) + 2000\n",
    "    \n",
    "    blink[blink == blink] = 1000\n",
    "    return blink\n",
    "\n",
    "def nice_lines(data, name, color='m', heavy=[.6, 2], light=[.1, 12]): \n",
    "    plt.plot(data, color, alpha=heavy[0], linewidth=heavy[1], label=name)    \n",
    "    plt.plot(data, color, alpha=light[0], linewidth=light[1])"
   ]
  },
  {
   "cell_type": "code",
   "execution_count": null,
   "metadata": {
    "collapsed": false
   },
   "outputs": [],
   "source": [
    "blink = find_blinks(pupil_data, conv_filter_length=30, set_thresh=200)"
   ]
  },
  {
   "cell_type": "code",
   "execution_count": null,
   "metadata": {
    "collapsed": false
   },
   "outputs": [],
   "source": [
    "ind1 = 190000 ; ind2  = ind1 + 5000"
   ]
  },
  {
   "cell_type": "code",
   "execution_count": null,
   "metadata": {
    "collapsed": false
   },
   "outputs": [],
   "source": [
    "plt.figure(figsize=[20, 5])\n",
    "nice_lines(pupil_data[ind1:ind2], 'pupil diameter', 'b')\n",
    "nice_lines(blink[ind1:ind2], 'blink','m', light=[.1,20])\n",
    "plt.legend(prop={'size': 15}, loc=1)"
   ]
  },
  {
   "cell_type": "markdown",
   "metadata": {},
   "source": [
    "> a **`class`** that would perform all the steps we've outlined up to this point, for one subject, might look something like this: "
   ]
  },
  {
   "cell_type": "code",
   "execution_count": 1,
   "metadata": {
    "collapsed": true
   },
   "outputs": [],
   "source": [
    "import numpy as np\n",
    "import csv, os"
   ]
  },
  {
   "cell_type": "code",
   "execution_count": 2,
   "metadata": {
    "collapsed": true
   },
   "outputs": [],
   "source": [
    "import matplotlib.pylab as plt"
   ]
  },
  {
   "cell_type": "code",
   "execution_count": 3,
   "metadata": {
    "collapsed": true
   },
   "outputs": [],
   "source": [
    "% matplotlib inline "
   ]
  },
  {
   "cell_type": "code",
   "execution_count": 4,
   "metadata": {
    "collapsed": true
   },
   "outputs": [],
   "source": [
    "def nice_lines(data, name, color='m', heavy=[.6, 2], light=[.1, 12]): \n",
    "    plt.plot(data, color, alpha=heavy[0], linewidth=heavy[1], label=name)    \n",
    "    plt.plot(data, color, alpha=light[0], linewidth=light[1])"
   ]
  },
  {
   "cell_type": "code",
   "execution_count": 5,
   "metadata": {
    "collapsed": false
   },
   "outputs": [],
   "source": [
    "class eyelink_data: \n",
    "    \n",
    "    def __init__(self, subject_number=14): \n",
    "        \"\"\"initialize path and preproocessing setting\"\"\"\n",
    "        \n",
    "        # relative path to data and subject_n\n",
    "        self.data_path = '../../collection/gaze_data/'\n",
    "        self.i_subject = subject_number\n",
    "        # hyperparameters for determining blinks\n",
    "        self.conv_filter_length = 20\n",
    "        self.set_thresh = 500\n",
    "        self.skip = 5\n",
    "        \n",
    "        \n",
    "    def load_subject(self):\n",
    "        \"\"\"loads eyelink-converted asc files containing\"\"\"\n",
    "        \n",
    "        data_file_names = []\n",
    "        folder_contents = os.listdir(self.data_path)\n",
    "        \n",
    "        for file in folder_contents: \n",
    "            if 'd1.asc' in file: \n",
    "                data_file_names.append(file)\n",
    "\n",
    "        subject_path = self.data_path + data_file_names[self.i_subject]\n",
    "        print('collecting gaze data from: ' + subject_path)\n",
    "         \n",
    "        with open(subject_path) as f:\n",
    "            reader = csv.reader(f, delimiter=\"\\t\")\n",
    "            # save data file to class \n",
    "            self.subject_data = list(reader)\n",
    "\n",
    "    def extract_pupil_data(self): \n",
    "        \"\"\"extracts pupil size from eyelink-converted converted asc files\"\"\"\n",
    "\n",
    "        # initialize data structures and load data\n",
    "        pupil_data = []\n",
    "        pupil_column = 3 \n",
    "        self.load_subject() \n",
    "        \n",
    "        # extract pupil diameter from data file \n",
    "        for i_row in range(len(self.subject_data)): \n",
    "            try: \n",
    "                int(self.subject_data[i_row][0])\n",
    "                i_pupil = self.subject_data[i_row][pupil_column]\n",
    "                pupil_data.append(float(i_pupil))\n",
    "            except: \n",
    "                pass \n",
    "            \n",
    "        # save pupil data to class instance\n",
    "        self.pupil_data = np.array(pupil_data)\n",
    "    \n",
    "    def dpupil_dtime(self): \n",
    "        \"\"\"determined the change in pupil size across an interval set by 'skip'\"\"\"\n",
    "        \n",
    "        # initiate data structures\n",
    "        indices = []\n",
    "        dp_dt = np.zeros(len(self.pupil_data))\n",
    "\n",
    "        # define blink as time when no measurements taken--super conservative\n",
    "        blink_segment = np.repeat(np.nan, len(self.pupil_data))\n",
    "        blink_segment[self.pupil_data==0] = 1 * np.mean(self.pupil_data)\n",
    "\n",
    "        # take interval if we're subsampling the data (to get bigger deltas)\n",
    "        sliced_segment = self.pupil_data[::self.skip]\n",
    "        index_segment = np.array(list(range(len(self.pupil_data)))[0::self.skip])\n",
    "\n",
    "        # preserve the length of the segment, even if we're subsampling\n",
    "        for ii in range(1, len(sliced_segment)): \n",
    "            dp_dt[index_segment[ii]] = sliced_segment[ii] - sliced_segment[ii-1]\n",
    "\n",
    "        return abs(dp_dt), blink_segment\n",
    "\n",
    "    \n",
    "    def find_blinks(self): \n",
    "        \"\"\"determine when blinks occur in timecourse\"\"\"\n",
    "        \n",
    "        # extract change in pupil size and a naive blink measure\n",
    "        delta, naive_blink = self.dpupil_dtime()\n",
    "\n",
    "        # convolve, etc.\n",
    "        delta[naive_blink==naive_blink] = 1000\n",
    "        wide_delta = np.convolve(delta,np.ones(self.conv_filter_length), 'same')[0:len(delta)]\n",
    "        blink = np.repeat(np.nan, len(self.pupil_data))\n",
    "        blink[wide_delta > self.set_thresh] = np.mean(self.pupil_data) + 2000\n",
    "        blink[naive_blink > 0] = np.mean(self.pupil_data) + 2000\n",
    "\n",
    "        blink[blink == blink] = 1000\n",
    "        return blink, self.pupil_data\n"
   ]
  },
  {
   "cell_type": "markdown",
   "metadata": {},
   "source": [
    "> below are some useful ways to cue the class"
   ]
  },
  {
   "cell_type": "code",
   "execution_count": 6,
   "metadata": {
    "collapsed": false
   },
   "outputs": [
    {
     "name": "stdout",
     "output_type": "stream",
     "text": [
      "collecting gaze data from: ../../collection/gaze_data/s12_d1.asc\n"
     ]
    }
   ],
   "source": [
    "example = eyelink_data()\n",
    "example.extract_pupil_data()"
   ]
  },
  {
   "cell_type": "code",
   "execution_count": 7,
   "metadata": {
    "collapsed": false
   },
   "outputs": [],
   "source": [
    "blinks, pupil = example.find_blinks() # we can also get `pupil = example.pupil_data`"
   ]
  },
  {
   "cell_type": "markdown",
   "metadata": {},
   "source": [
    "> and just to check that it's working properly "
   ]
  },
  {
   "cell_type": "code",
   "execution_count": 8,
   "metadata": {
    "collapsed": true
   },
   "outputs": [],
   "source": [
    "ind1 = 5000 ; ind2  = ind1 + 5000"
   ]
  },
  {
   "cell_type": "code",
   "execution_count": 9,
   "metadata": {
    "collapsed": false
   },
   "outputs": [
    {
     "data": {
      "text/plain": [
       "<matplotlib.legend.Legend at 0x110c3c2b0>"
      ]
     },
     "execution_count": 9,
     "metadata": {},
     "output_type": "execute_result"
    },
    {
     "data": {
      "image/png": "[encoded data removed]",
      "text/plain": [
       "<matplotlib.figure.Figure at 0x110be4710>"
      ]
     },
     "metadata": {},
     "output_type": "display_data"
    }
   ],
   "source": [
    "plt.figure(figsize=[20, 5])\n",
    "nice_lines(pupil[ind1:ind2], 'pupil diameter', 'b')\n",
    "nice_lines(blinks[ind1:ind2], 'blink','m', light=[.1,20])\n",
    "plt.legend(prop={'size': 15}, loc=4)"
   ]
  },
  {
   "cell_type": "markdown",
   "metadata": {},
   "source": [
    "> we can load different subjects a couple of ways"
   ]
  },
  {
   "cell_type": "code",
   "execution_count": 13,
   "metadata": {
    "collapsed": true
   },
   "outputs": [],
   "source": [
    "i_subject = 5"
   ]
  },
  {
   "cell_type": "code",
   "execution_count": null,
   "metadata": {
    "collapsed": false
   },
   "outputs": [
    {
     "name": "stdout",
     "output_type": "stream",
     "text": [
      "collecting gaze data from: ../../collection/gaze_data/s05_d1.asc\n"
     ]
    }
   ],
   "source": [
    "example = eyelink_data(i_subject)\n",
    "example.extract_pupil_data()"
   ]
  },
  {
   "cell_type": "code",
   "execution_count": null,
   "metadata": {
    "collapsed": false
   },
   "outputs": [],
   "source": [
    "example = eyelink_data()\n",
    "example.i_subject = i_subject\n",
    "example.extract_pupil_data()"
   ]
  },
  {
   "cell_type": "code",
   "execution_count": null,
   "metadata": {
    "collapsed": true
   },
   "outputs": [],
   "source": []
  }
 ],
 "metadata": {
  "kernelspec": {
   "display_name": "Python 3",
   "language": "python",
   "name": "python3"
  },
  "language_info": {
   "codemirror_mode": {
    "name": "ipython",
    "version": 3
   },
   "file_extension": ".py",
   "mimetype": "text/x-python",
   "name": "python",
   "nbconvert_exporter": "python",
   "pygments_lexer": "ipython3",
   "version": "3.6.0"
  }
 },
 "nbformat": 4,
 "nbformat_minor": 2
}
