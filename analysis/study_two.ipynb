{
 "cells": [
  {
   "cell_type": "code",
   "execution_count": 1,
   "metadata": {
    "collapsed": false
   },
   "outputs": [
    {
     "name": "stdout",
     "output_type": "stream",
     "text": [
      "Populating the interactive namespace from numpy and matplotlib\n"
     ]
    }
   ],
   "source": [
    "% pylab inline"
   ]
  },
  {
   "cell_type": "code",
   "execution_count": 2,
   "metadata": {
    "collapsed": false
   },
   "outputs": [],
   "source": [
    "# load functions for data analysis\n",
    "from statsmodels.stats.anova import anova_lm\n",
    "from statsmodels.formula.api import ols\n",
    "import statsmodels.formula.api as smf    \n",
    "import pandas, os, scipy\n",
    "import seaborn as sns\n",
    "from scipy import stats\n",
    "import numpy as np\n",
    "pandas.options.mode.chained_assignment = None"
   ]
  },
  {
   "cell_type": "code",
   "execution_count": 3,
   "metadata": {
    "collapsed": false
   },
   "outputs": [],
   "source": [
    "data_path = '/Users/biota/Desktop/sSL/repo/analysis/scr/data_study_two/'"
   ]
  },
  {
   "cell_type": "code",
   "execution_count": 4,
   "metadata": {
    "collapsed": true
   },
   "outputs": [],
   "source": [
    "sys.path.append('scr/')\n",
    "from adapting_fyp_analysis import experimental"
   ]
  },
  {
   "cell_type": "code",
   "execution_count": null,
   "metadata": {
    "collapsed": true
   },
   "outputs": [],
   "source": [
    "day_one = experimental(data_path)\n",
    "day_one.day = 1\n",
    "day_one.preprocessData()"
   ]
  },
  {
   "cell_type": "code",
   "execution_count": null,
   "metadata": {
    "collapsed": false
   },
   "outputs": [],
   "source": [
    "day_two = experimental(data_path)\n",
    "day_two.day = 2\n",
    "day_two.preprocessData()"
   ]
  },
  {
   "cell_type": "code",
   "execution_count": null,
   "metadata": {
    "collapsed": false
   },
   "outputs": [],
   "source": [
    "def counterbalance_info(day_two): \n",
    "    \n",
    "    plus_first, minus_first = [], []\n",
    "    \n",
    "    for i_subject in range(0,len(day_two.subjectNames)): \n",
    "\n",
    "        subject_number = int(day_two.subjectNames[i_subject][1:3])\n",
    "\n",
    "        condMarkers = np.copy(day_two.transData[i_subject][1])\n",
    "        neg_ons = day_two.stimuli(condMarkers[:,1])[0]\n",
    "        pos_ons = day_two.stimuli(condMarkers[:,0])[0]\n",
    "\n",
    "        if pos_ons[0] > neg_ons[0]: \n",
    "            plus_first.append(i_subject)\n",
    "        else: \n",
    "            minus_first.append(i_subject)\n",
    "\n",
    "    cb = np.array(minus_first)\n",
    "    bc = np.array(plus_first)\n",
    "    \n",
    "    order = np.zeros(day_two.nSubjects)\n",
    "    order[minus_first] = 1\n",
    "    \n",
    "    _dict_ = {'counter_balanced_inds': cb, \n",
    "          'not_counter_balanced_inds': bc, \n",
    "          'order': order} \n",
    "\n",
    "    return _dict_\n",
    "    "
   ]
  },
  {
   "cell_type": "code",
   "execution_count": null,
   "metadata": {
    "collapsed": true
   },
   "outputs": [],
   "source": [
    "def log_transform(_a_): \n",
    "    \"\"\"convenience function\"\"\"\n",
    "    return np.log(1 + _a_)"
   ]
  },
  {
   "cell_type": "code",
   "execution_count": null,
   "metadata": {
    "collapsed": false
   },
   "outputs": [],
   "source": [
    "def extract_conditioning_data(scr_data_, type_ , location_, dict_=''):\n",
    "    '''\n",
    "    scr_data_ is either day_one or day_two\n",
    "    type_ is either 'raw' or 'trans'\n",
    "    location_ is either 'onset' (predictive) or 'offset' (contagion)\n",
    "    '''\n",
    "    \n",
    "    if not dict_: dict_ = {}\n",
    "    \n",
    "    dict_['%s_%s'%(type_, location_)] = {} \n",
    "    \n",
    "    if location_ == 'onset':\n",
    "        start_ind, end_ind = 4, 13 \n",
    "        trial_ = list(range(start_ind, end_ind))\n",
    "        positive_ = np.zeros([scr_data_.nSubjects,len(range(start_ind,end_ind))])\n",
    "        negative_ = np.zeros([scr_data_.nSubjects,len(range(start_ind,end_ind))])\n",
    "    else: \n",
    "        trial_ = np.array([3, 5, 6, 8, 9, 11])# list(range(start_ind, end_ind))\n",
    "        positive_ = np.zeros([scr_data_.nSubjects,len(trial_)])\n",
    "        negative_ = np.zeros([scr_data_.nSubjects,len(trial_)])\n",
    "    \n",
    "    for i_stim in range(0,len(trial_)):\n",
    "        positive_[:,i_stim], negative_[:,i_stim] = scr_data_.amplitudeDifference(type_, trial_[i_stim], location_);\n",
    "\n",
    "    significance_ = np.zeros(scr_data_.nSubjects)\n",
    "    for iSubject in range(0,scr_data_.nSubjects): \n",
    "        significance_[iSubject] = scipy.stats.ttest_ind(positive_[iSubject,:], negative_[iSubject,:])[1];\n",
    "        \n",
    "    dict_['%s_%s'%(type_, location_)]['positive_stim'] = log_transform(positive_)\n",
    "    dict_['%s_%s'%(type_, location_)]['negative_stim'] = log_transform(negative_)\n",
    "    dict_['%s_%s'%(type_, location_)]['significe_difference'] = significance_\n",
    "    dict_['%s_%s'%(type_, location_)]['learning'] = mean(log_transform(positive_) - log_transform(negative_),1)\n",
    "    \n",
    "    return dict_"
   ]
  },
  {
   "cell_type": "code",
   "execution_count": null,
   "metadata": {
    "collapsed": false
   },
   "outputs": [],
   "source": [
    "def extract_renewal_data(day_two, type_, location_, dict_=''): \n",
    "        \n",
    "    if not dict_: dict_ = {} \n",
    "    dict_['%s_%s'%(type_, location_)] = {} \n",
    "    \n",
    "    # order of outputs here is switched because of changes in experimental outputs\n",
    "    minus, plus = day_two.amplitudeDifference(type_, 0, location_);\n",
    "    \n",
    "    dict_['%s_%s'%(type_, location_)]['contrast'] = log_transform(plus) - log_transform(minus) \n",
    "    dict_['%s_%s'%(type_, location_)]['positive_stim'] = log_transform(plus) \n",
    "    dict_['%s_%s'%(type_, location_)]['negative_stim'] = log_transform(minus)\n",
    "    \n",
    "    return dict_\n"
   ]
  },
  {
   "cell_type": "code",
   "execution_count": null,
   "metadata": {
    "collapsed": false
   },
   "outputs": [],
   "source": [
    "\n",
    "def test_single_relationship(_df_, _predictor_, loud=1): \n",
    "\n",
    "    formula = 'renewal ~ %s'%_predictor_\n",
    "    model = ols(formula, _df_).fit()\n",
    "    aov_table = anova_lm(model, typ=2)\n",
    "    p_val = aov_table.values[0,3]\n",
    "    \n",
    "    if loud: print '\\n\\t\\t', formula, '\\n\\n', aov_table, '\\n'\n",
    "    \n",
    "    return float('%.4f'%p_val)\n",
    "\n",
    "def control_for_order(_df_, _predictor_, loud=1): \n",
    "\n",
    "    formula = 'renewal ~ C(order) + %s'%_predictor_\n",
    "    model = ols(formula, _df_).fit()\n",
    "    aov_table = anova_lm(model, typ=2)\n",
    "    p_val = aov_table.values[1,3]\n",
    "    \n",
    "    if loud: print '\\n\\t\\t', formula, '\\n\\n', aov_table, '\\n'\n",
    "    \n",
    "    return float('%.4f'%p_val)\n",
    "    \n",
    "    "
   ]
  },
  {
   "cell_type": "code",
   "execution_count": null,
   "metadata": {
    "collapsed": true
   },
   "outputs": [],
   "source": [
    "def show_order_effects(): \n",
    "    \n",
    "    figure(figsize=[8,6])\n",
    "    sns.set_style(\"dark\", {'axes.grid' : True})\n",
    "    jitter = np.random.randn(len(order))/100\n",
    "    scatter(order + jitter,log_renewal, alpha=.8, s=90)\n",
    "    scatter(order + jitter,log_renewal, color='darkcyan', alpha=.1, s=300)\n",
    "    ylabel('Renewal \\nCS+ minus CS-\\n', rotation=90, fontsize=14)\n",
    "\n",
    "    yticks([-.5,0,.5,],[-.5,0,.5])\n",
    "    xticks([0, 1],['\\nFirst CS','\\nSecond CS'], fontsize=14)\n",
    "    xlim(-.2, 1.2)\n",
    "    ylim(-2.5, 3)\n",
    "    title('Main Effect of order on SCR to CS on day two (p < %.04f)\\n'%p_val_order_effects, fontsize=15); \n"
   ]
  },
  {
   "cell_type": "code",
   "execution_count": null,
   "metadata": {
    "collapsed": false
   },
   "outputs": [],
   "source": [
    "# extract measure of predictive learning across conditioning\n",
    "conditioning = extract_conditioning_data(day_one, 'trans', 'onset')\n",
    "# extract measure of emotional contagion across conditioning\n",
    "conditioning = extract_conditioning_data(day_one, 'trans', 'offset', conditioning)\n",
    "# extract measure for determining non-responders\n",
    "conditioning = extract_conditioning_data(day_one, 'raw', 'onset', conditioning)"
   ]
  },
  {
   "cell_type": "code",
   "execution_count": null,
   "metadata": {
    "collapsed": false
   },
   "outputs": [],
   "source": [
    "# renewal measure -- main dependent variable of the experiment \n",
    "renewal = extract_renewal_data(day_two, 'trans', 'onset')\n",
    "renewal = extract_renewal_data(day_two, 'raw',   'onset', renewal)"
   ]
  },
  {
   "cell_type": "code",
   "execution_count": null,
   "metadata": {
    "collapsed": false
   },
   "outputs": [],
   "source": [
    "# extract information about the order of presentation of day two\n",
    "counter_balance_info = counterbalance_info(day_two)"
   ]
  },
  {
   "cell_type": "code",
   "execution_count": null,
   "metadata": {
    "collapsed": false
   },
   "outputs": [],
   "source": [
    "# set criteria for responders -- at least one scr responce > .1\n",
    "responders = np.array(conditioning['raw_onset']['positive_stim'] > .01).mean(1) > 0"
   ]
  },
  {
   "cell_type": "code",
   "execution_count": null,
   "metadata": {
    "collapsed": false,
    "scrolled": true
   },
   "outputs": [],
   "source": [
    "# reformat into a data frame\n",
    "SCR = pandas.DataFrame({'renewal':renewal['trans_onset']['contrast'],\n",
    "                        'order':counter_balance_info['order'],\n",
    "                        'contagion':conditioning['trans_offset']['learning'],\n",
    "                        'prediction': conditioning['trans_onset']['learning']})\n",
    "\n",
    "subject_names = [int(day_two.subjectNames[i_subject][1:3]) for i_subject in np.nonzero(responders)[0]]\n",
    "SCR.index = subject_names\n",
    "# remove non-responders \n",
    "responders_data = SCR[responders]"
   ]
  },
  {
   "cell_type": "code",
   "execution_count": null,
   "metadata": {
    "collapsed": false
   },
   "outputs": [],
   "source": [
    "#determine significance and display\n",
    "renewal['significance'] = {} \n",
    "renewal['significance']['order'] = test_single_relationship(responders_data, 'order')"
   ]
  },
  {
   "cell_type": "code",
   "execution_count": null,
   "metadata": {
    "collapsed": true
   },
   "outputs": [],
   "source": [
    "def show_order_effects(): \n",
    "    figure(figsize=[8,6])\n",
    "    sns.set_style(\"dark\", {'axes.grid' : True})\n",
    "    jitter = np.random.randn(len(counter_balance_info['order']))/100\n",
    "    scatter(counter_balance_info['order'] + jitter,SCR['renewal'], color='midnightblue', alpha=.8, s=90)\n",
    "    ylabel('Renewal \\nCS+ minus CS-\\n', rotation=90, fontsize=14)\n",
    "\n",
    "    yticks([-.5,0,.5,],[-.5,0,.5])\n",
    "    xticks([0, 1],['\\nFirst CS','\\nSecond CS'], fontsize=14)\n",
    "    xlim(-.2, 1.2)\n",
    "    ylim(-2.5, 3)\n",
    "    title('\\nMain Effect of order on skin conductance \\nresponse to CS on day two (p < %.3f)\\n'%renewal['significance']['order'], fontsize=20); "
   ]
  },
  {
   "cell_type": "code",
   "execution_count": null,
   "metadata": {
    "collapsed": false
   },
   "outputs": [],
   "source": [
    "show_order_effects()"
   ]
  },
  {
   "cell_type": "code",
   "execution_count": null,
   "metadata": {
    "collapsed": false
   },
   "outputs": [],
   "source": [
    "renewal['significance']['prediction']  = test_single_relationship(responders_data, 'prediction')"
   ]
  },
  {
   "cell_type": "code",
   "execution_count": null,
   "metadata": {
    "collapsed": false
   },
   "outputs": [],
   "source": [
    "renewal['significance']['contagion']   = test_single_relationship(responders_data, 'contagion')"
   ]
  },
  {
   "cell_type": "code",
   "execution_count": null,
   "metadata": {
    "collapsed": false,
    "scrolled": false
   },
   "outputs": [],
   "source": [
    "renewal['significance']['prediction_controlled'] = control_for_order(responders_data, 'prediction')"
   ]
  },
  {
   "cell_type": "code",
   "execution_count": null,
   "metadata": {
    "collapsed": false
   },
   "outputs": [],
   "source": [
    "renewal['significance']['contagion_controlled']  = control_for_order(responders_data, 'contagion')"
   ]
  },
  {
   "cell_type": "code",
   "execution_count": null,
   "metadata": {
    "collapsed": false
   },
   "outputs": [],
   "source": [
    "def show_relationships(): \n",
    "    figure(figsize=[20,5])\n",
    "    sns.set_style(\"dark\", {'axes.grid' : True})\n",
    "    subplot(121)\n",
    "    type_color = 'xkcd:indigo'\n",
    "    scatter(SCR['contagion'],SCR['renewal'],color='xkcd:white',alpha=1,s=500, label='')\n",
    "    scatter(SCR['contagion'][counter_balance_info['order'] == False], SCR['renewal'][counter_balance_info['order']  == False],color=type_color,alpha=.8,s=150, label='CS+ first')\n",
    "    scatter(SCR['contagion'][counter_balance_info['order']  == True], SCR['renewal'][counter_balance_info['order']  == True], color=type_color,alpha=.8, s=100,  label='CS- first', linewidth=3, facecolor='none')\n",
    "\n",
    "    yticks([-.1,0,.1],[-.1,'',.1])\n",
    "    xticks([-.1,0,.1],[-.1,0,.1])\n",
    "\n",
    "    legend( bbox_to_anchor=(.20, 1, 1, -.1), fontsize=13)\n",
    "    xlabel('Emotional contagion on day one\\n CS+ minus CS- at shock offset',fontsize=13, fontweight='bold')\n",
    "    ylabel('Renewal on day two\\n CS+ minus CS-',fontsize=13, fontweight='bold')\n",
    "    #xlim(-.4,1)\n",
    "    title('Relationship between emotional contagion and renewal (p < %.2f)\\n' \n",
    "          %(renewal['significance']['contagion']), fontsize=18, fontweight='bold'); \n",
    "\n",
    "    subplot(122)\n",
    "    type_color = 'xkcd:indigo'\n",
    "    scatter(SCR['prediction'], SCR['renewal'],color='xkcd:white',alpha=1,s=500, label='')\n",
    "    #scatter(log_learning[responders == True], log_renewal[responders == True],color='yellow',alpha=1,s=300, label='responders')\n",
    "\n",
    "    scatter(SCR['prediction'][counter_balance_info['order'] == False], SCR['renewal'][counter_balance_info['order']  == False],color=type_color,alpha=.8,s=150, label='CS+ first')\n",
    "    scatter(SCR['prediction'][counter_balance_info['order']  == True], SCR['renewal'][counter_balance_info['order']  == True], color=type_color,alpha=.8, s=100,  label='CS- first', linewidth=3, facecolor='none')\n",
    "\n",
    "    yticks([-.1,0,.1],[-.1,'',.1])\n",
    "    xticks([-.1,0,.1],[-.1,0,.1])\n",
    "\n",
    "    xlabel('Predictive learning on day one\\n CS+ minus CS- at stimulus onset',fontsize=13, fontweight='bold')\n",
    "    yticks([-.1,0,.1],['','',''])\n",
    "    title('\\n Relationship between predictive learning and renewal (p < %.2f)\\n' \n",
    "          %(renewal['significance']['prediction']), fontsize=18, fontweight='bold'); "
   ]
  },
  {
   "cell_type": "code",
   "execution_count": null,
   "metadata": {
    "collapsed": false
   },
   "outputs": [],
   "source": [
    "show_relationships()"
   ]
  },
  {
   "cell_type": "code",
   "execution_count": null,
   "metadata": {
    "collapsed": false
   },
   "outputs": [],
   "source": [
    "def partition_analysis(_cond, _rnwl, _title): \n",
    "    \n",
    "    cutoffs = {'1) significance':.05,\n",
    "               '2) upper_quartile':np.percentile(conditioning['trans_onset']['significe_difference'], 25), \n",
    "               '3) upper third': np.percentile(conditioning['trans_onset']['significe_difference'], 33)}\n",
    "    \n",
    "    cutoff_keys = cutoffs.keys(); cutoff_keys.sort() \n",
    "\n",
    "    cond_sig_on = np.zeros(day_one.nSubjects)\n",
    "    for i_subject in range(0,day_one.nSubjects): \n",
    "        cond_sig_on[i_subject] = scipy.stats.ttest_ind(_cond['positive_stim'][i_subject,:], \n",
    "                                                       _cond['negative_stim'][i_subject,:])[1];\n",
    "\n",
    "    figure(figsize=[20,5])\n",
    "    sns.set_style(\"dark\", {'axes.grid' : True})\n",
    "\n",
    "    for i_cutoff in range(len(cutoffs)): \n",
    "\n",
    "        subplot(1,3,i_cutoff + 1)\n",
    "        _i_cut = cutoff_keys[i_cutoff]\n",
    "        _cutoff = cutoffs[_i_cut]\n",
    "\n",
    "        con_subs_= find(cond_sig_on < _cutoff)\n",
    "\n",
    "        tmp_len_p = len(_rnwl['positive_stim'][con_subs_])\n",
    "        tmp_len_n = len(_rnwl['negative_stim'][con_subs_])\n",
    "        jitter_p = np.random.randn(tmp_len_p)/100\n",
    "        jitter_n = np.random.randn(tmp_len_n)/100\n",
    "\n",
    "        _results_ = scipy.stats.ttest_ind(_rnwl['positive_stim'][con_subs_], _rnwl['negative_stim'][con_subs_])\n",
    "\n",
    "        scatter(np.zeros(tmp_len_p)+ .3 + jitter_p, _rnwl['positive_stim'][con_subs_],s=300, alpha=1,color='white') \n",
    "        scatter(np.zeros(tmp_len_p)+ .3 + jitter_p, _rnwl['positive_stim'][con_subs_],s=100, alpha=.5,color='xkcd:red') \n",
    "        scatter(np.zeros(tmp_len_n)+jitter_n, _rnwl['negative_stim'][con_subs_]+ jitter_p,s=300, alpha=1, color='white') \n",
    "        scatter(np.zeros(tmp_len_n)+jitter_n, _rnwl['negative_stim'][con_subs_]+ jitter_p,s=100, alpha=.5, color='midnightblue') \n",
    "        xlim([-.1,.4])\n",
    "        xticks([0,.3], ['\\nCS-', '\\nCS+'], fontsize=15); \n",
    "        yticks([0,.5], [0.,.5], fontsize=10); \n",
    "        ylabel('Skin Conductance Response\\nat first presentation of stimuli on day two')\n",
    "        title('\\n Subjects below %s (p < %.2f) : p < %.4f\\n'%(_i_cut, _cutoff, _results_.pvalue), fontsize=15); \n",
    "    \n",
    "    suptitle('Segmenting renewal scores according to how significant %s was for each subject across conditioning on day one'%(_title), \n",
    "             fontsize=15, fontweight='bold',y=1.1);\n",
    "    \n",
    "    return cond_sig_on"
   ]
  },
  {
   "cell_type": "code",
   "execution_count": null,
   "metadata": {
    "collapsed": false
   },
   "outputs": [],
   "source": [
    "onset_significance = partition_analysis(conditioning['trans_onset'], renewal['trans_onset'], 'prediction')"
   ]
  },
  {
   "cell_type": "code",
   "execution_count": null,
   "metadata": {
    "collapsed": false
   },
   "outputs": [],
   "source": [
    "offset_significance = partition_analysis(conditioning['trans_offset'], renewal['trans_onset'], 'contagion')"
   ]
  },
  {
   "cell_type": "code",
   "execution_count": null,
   "metadata": {
    "collapsed": false
   },
   "outputs": [],
   "source": [
    "cond_sig_on = np.zeros(day_one.nSubjects)\n",
    "for i_subject in range(0,day_one.nSubjects): \n",
    "    cond_sig_on[i_subject] = scipy.stats.ttest_ind(conditioning['trans_onset']['positive_stim'][i_subject,:], \n",
    "                                                   conditioning['trans_onset']['negative_stim'][i_subject,:])[1];\n",
    "    \n",
    "cond_sig_off = np.zeros(day_one.nSubjects)\n",
    "for i_subject in range(0,day_one.nSubjects): \n",
    "    cond_sig_off[i_subject] = scipy.stats.ttest_ind(conditioning['trans_offset']['positive_stim'][i_subject,:], \n",
    "                                                   conditioning['trans_offset']['negative_stim'][i_subject,:])[1];"
   ]
  },
  {
   "cell_type": "code",
   "execution_count": null,
   "metadata": {
    "collapsed": false
   },
   "outputs": [],
   "source": [
    "figure(figsize=[10,6])\n",
    "hist(cond_sig_on, alpha=.6, label='predictive learning', color='xkcd:red')\n",
    "hist(cond_sig_off, alpha=.6, label='contagion learning', color='indigo'); \n",
    "legend(fontsize=20)\n",
    "title(\"\\nDistibution of subjects' significance scores for \\ntwo measures of learning across conditioning\\n\", fontsize=25); \n",
    "xlabel('p', fontweight='bold', fontsize=20); "
   ]
  },
  {
   "cell_type": "code",
   "execution_count": null,
   "metadata": {
    "collapsed": false
   },
   "outputs": [],
   "source": [
    "# need a data frame with all subhects to help with alignment across measures--we'll eliminate later\n",
    "import pickle \n",
    "\n",
    "with open('scr/gaze_analysis_objects.pkl') as f:  # Python 3: open(..., 'rb')\n",
    "    main, gaze_data, gaze_subjects = pickle.load(f)"
   ]
  },
  {
   "cell_type": "code",
   "execution_count": null,
   "metadata": {
    "collapsed": true
   },
   "outputs": [],
   "source": [
    "# generate composite attention measure\n",
    "\n",
    "attention = {i_key:[] for i_key in main.keys()}\n",
    "\n",
    "for i_subject in range(len(gaze_subjects)):\n",
    "    for timeframe in main.keys(): \n",
    "        tmp_attention = []\n",
    "        for AOI in main[timeframe].keys(): \n",
    "            tmp_attention.append(main[timeframe][AOI][i_subject])\n",
    "\n",
    "        attention[timeframe].append(sum(np.array(tmp_attention)))\n",
    "\n",
    "        \n",
    "for i_key in main.keys(): \n",
    "    main[i_key]['sum'] = attention[i_key]"
   ]
  },
  {
   "cell_type": "code",
   "execution_count": null,
   "metadata": {
    "collapsed": true
   },
   "outputs": [],
   "source": [
    "# generate data frame for gaze data\n",
    "\n",
    "gaze_frame = pandas.DataFrame() \n",
    "\n",
    "for time_frame in main.keys(): \n",
    "    for AOI in main[time_frame].keys(): \n",
    "        gaze_frame['%s_%s'%(time_frame, AOI)] = main[time_frame][AOI]\n",
    "\n",
    "gaze_frame.index = map(int, gaze_subjects)\n"
   ]
  },
  {
   "cell_type": "code",
   "execution_count": null,
   "metadata": {
    "collapsed": false
   },
   "outputs": [],
   "source": [
    "\n",
    "data_frame = gaze_frame.join(SCR)\n"
   ]
  },
  {
   "cell_type": "code",
   "execution_count": null,
   "metadata": {
    "collapsed": true
   },
   "outputs": [],
   "source": [
    "\n",
    "with open('scr/behavioral_analysis_objects.pkl') as f:  # Python 3: open(..., 'rb')\n",
    "    all_behavioral, session_data, trait_data = pickle.load(f)\n",
    "    \n",
    "session_data.index = map(int, session_data['subject_id'].values)\n",
    "trait_data.index = map(int, session_data['subject_id'].values)\n"
   ]
  },
  {
   "cell_type": "code",
   "execution_count": null,
   "metadata": {
    "collapsed": false
   },
   "outputs": [],
   "source": [
    "data_frame = data_frame.join(session_data)\n",
    "data_frame = data_frame.join(trait_data)"
   ]
  },
  {
   "cell_type": "code",
   "execution_count": null,
   "metadata": {
    "collapsed": true
   },
   "outputs": [],
   "source": [
    "behave = data_frame\n",
    "behave = behave.drop(40) # not a naive subject\n",
    "behave = behave.drop(42) # tyler fucked up protocol"
   ]
  },
  {
   "cell_type": "code",
   "execution_count": null,
   "metadata": {
    "collapsed": true
   },
   "outputs": [],
   "source": [
    "behave.voltage.values[behave.voltage.values>10] = (behave.voltage.values[behave.voltage.values>10])/10"
   ]
  },
  {
   "cell_type": "code",
   "execution_count": null,
   "metadata": {
    "collapsed": true
   },
   "outputs": [],
   "source": [
    "def show_relationship(data_frame, x_var, y_var, color='indigo', alpha=.6, line_alpha=.1): \n",
    "    \n",
    "    sns.set_style(\"white\", {'axes.grid' : False})\n",
    "\n",
    "    X_ = data_frame[x_var].values\n",
    "    y_ = data_frame[y_var].values\n",
    "    \n",
    "    keepers = np.array(X_ == X_) & np.array(y_ == y_)\n",
    "    y = y_[keepers]\n",
    "    X = X_[keepers]\n",
    "\n",
    "    slope, intercept, r_value, p_value, std_err = stats.linregress(X,y)\n",
    "    xx = np.arange(min(X), max(X))\n",
    "    yy = slope * xx + intercept\n",
    "    sns.despine()\n",
    "    # Print out the statistics\n",
    "    sns.set_style(\"dark\", {\"axes.facecolor\": \"1\"})\n",
    "  \n",
    "    if p_value < .05: plot(xx, yy, linewidth=14,alpha=line_alpha, color=color)\n",
    "    #scatter(X, y, s=100, color='white')\n",
    "    scatter(X, y, s=150, color=color, alpha=alpha)\n",
    "    yticks([]); xticks([])\n",
    "    xlabel(x_var, fontsize=15)\n",
    "    ylabel(y_var, fontsize=15)\n",
    "\n",
    "    title('Relating %s and %s (p < %.3f)\\n'%(x_var, y_var, p_value), fontsize=15)"
   ]
  },
  {
   "cell_type": "code",
   "execution_count": null,
   "metadata": {
    "collapsed": true
   },
   "outputs": [],
   "source": [
    "def show_gaze_relationships(_1_1_, _1_2_, _2_1_, _2_2_, _3_1_, _3_2_, _title_, _color_, _data_): \n",
    "    figure(figsize=[20,5])\n",
    "    subplot(1,3,1)\n",
    "    show_relationship(behave, _1_1_, _1_2_, color=_color_)\n",
    "    subplot(1,3,2)\n",
    "    show_relationship(behave, _2_1_, _2_2_, color=_color_)\n",
    "    subplot(1,3,3)\n",
    "    show_relationship(behave, _3_1_, _3_2_, color=_color_)\n",
    "    suptitle(_title_, y=1.1, fontsize=25, fontweight='bold'); "
   ]
  },
  {
   "cell_type": "code",
   "execution_count": null,
   "metadata": {
    "collapsed": true
   },
   "outputs": [],
   "source": []
  },
  {
   "cell_type": "code",
   "execution_count": null,
   "metadata": {
    "collapsed": false
   },
   "outputs": [],
   "source": [
    "show_gaze_relationships('US_onset_face', 'feel_ayer',\n",
    "                        'US_onset_face', 'believe_ayer', \n",
    "                        'US_onset_face', 'relate', \n",
    "                        'looking time at shocked faces predicts some self-reoprted measures', \n",
    "                        'darkblue', behave) "
   ]
  },
  {
   "cell_type": "code",
   "execution_count": null,
   "metadata": {
    "collapsed": false
   },
   "outputs": [],
   "source": [
    "show_gaze_relationships('US_onset_face', 'renewal',\n",
    "                        'US_onset_face', 'contagion', \n",
    "                        'US_onset_face', 'prediction', \n",
    "                        'looking time at shocked faces does not predict physiological measures of interest', \n",
    "                        'darkblue', behave) "
   ]
  },
  {
   "cell_type": "code",
   "execution_count": null,
   "metadata": {
    "collapsed": false
   },
   "outputs": [],
   "source": [
    "show_gaze_relationships('empathic_concern', 'prediction',\n",
    "                        'believe_ayer', 'renewal', \n",
    "                        'perspective_taking', 'contagion', \n",
    "                        'looking time at shocked faces does not predict physiological measures of interest', \n",
    "                        'darkblue', behave) "
   ]
  },
  {
   "cell_type": "code",
   "execution_count": null,
   "metadata": {
    "collapsed": false
   },
   "outputs": [],
   "source": [
    "show_gaze_relationships('pain_self', 'renewal',\n",
    "                        'personal_distress', 'renewal', \n",
    "                        'US_onset_wrist', 'renewal', \n",
    "                        'state, trait, and looking time measures that do predict renewal', \n",
    "                        'xkcd:red', behave) "
   ]
  },
  {
   "cell_type": "code",
   "execution_count": null,
   "metadata": {
    "collapsed": false
   },
   "outputs": [],
   "source": [
    "show_gaze_relationships('personal_distress', 'CS_face',\n",
    "                        'personal_distress', 'renewal', \n",
    "                        'personal_distress', 'contagion', \n",
    "                        '(trait) personal distress predicts behavior and physiological measures ', \n",
    "                        'xkcd:red', behave) "
   ]
  },
  {
   "cell_type": "code",
   "execution_count": null,
   "metadata": {
    "collapsed": false
   },
   "outputs": [],
   "source": [
    "show_gaze_relationships('voltage', 'familiar',\n",
    "                        'voltage', 'feel_red', \n",
    "                        'voltage', 'renewal', \n",
    "                        'relating voltage of experience with behavioral and physiological measures ', \n",
    "                        'purple', behave) "
   ]
  },
  {
   "cell_type": "code",
   "execution_count": null,
   "metadata": {
    "collapsed": true
   },
   "outputs": [],
   "source": [
    "def show_vector_of_correlations(corr_mat, _type_, ): \n",
    "    index = np.nonzero([_type_== key for key in corr_mat.keys()])[0][0]\n",
    "    sns.set_style(\"dark\", {'axes.grid' : False})\n",
    "    imshow(corr_mat[[index]], cmap='bwr', vmax=1, vmin=-1)\n",
    "    yticks(range(len(corr_mat.keys())),corr_mat.keys(), fontsize=15); \n",
    "    title('\\n%s\\n'%_type_, fontsize=15, fontweight='bold'); \n",
    "    xticks([]); "
   ]
  },
  {
   "cell_type": "code",
   "execution_count": null,
   "metadata": {
    "collapsed": true
   },
   "outputs": [],
   "source": [
    "complete_correlation_matrix = behave.corr()"
   ]
  },
  {
   "cell_type": "code",
   "execution_count": null,
   "metadata": {
    "collapsed": false
   },
   "outputs": [],
   "source": [
    "figure(figsize=[20,15])\n",
    "subplot(1,4,1)\n",
    "show_vector_of_correlations(complete_correlation_matrix, 'renewal')\n",
    "subplot(1,4,2)\n",
    "show_vector_of_correlations(complete_correlation_matrix, 'voltage')\n",
    "subplot(1,4,3)\n",
    "show_vector_of_correlations(complete_correlation_matrix, 'personal_distress')\n",
    "subplot(1,4,4)\n",
    "show_vector_of_correlations(complete_correlation_matrix, 'CS_face')"
   ]
  },
  {
   "cell_type": "code",
   "execution_count": null,
   "metadata": {
    "collapsed": false
   },
   "outputs": [],
   "source": [
    "def show_complte_correlation_matrix(): \n",
    "\n",
    "    complete_names = complete_correlation_matrix.columns\n",
    "    sns.set_style(\"dark\", {'axes.grid' : False})\n",
    "\n",
    "    figure(figsize=[10,10])\n",
    "    #imshow(bcorr,cmap='bwr')\n",
    "\n",
    "    xs = np.arange(0,len(complete_names),1)\n",
    "    ys = np.arange(0,len(complete_names),1)\n",
    "\n",
    "    imshow(complete_correlation_matrix, cmap='bwr', vmin=-.8, vmax=.8)\n",
    "\n",
    "    xticks(xs, complete_names[xs], rotation=90, fontsize=15)\n",
    "    yticks(ys, complete_names[ys], fontsize=15);"
   ]
  },
  {
   "cell_type": "code",
   "execution_count": null,
   "metadata": {
    "collapsed": true
   },
   "outputs": [],
   "source": []
  }
 ],
 "metadata": {
  "kernelspec": {
   "display_name": "Python 2",
   "language": "python",
   "name": "python2"
  },
  "language_info": {
   "codemirror_mode": {
    "name": "ipython",
    "version": 2
   },
   "file_extension": ".py",
   "mimetype": "text/x-python",
   "name": "python",
   "nbconvert_exporter": "python",
   "pygments_lexer": "ipython2",
   "version": "2.7.13"
  }
 },
 "nbformat": 4,
 "nbformat_minor": 2
}
